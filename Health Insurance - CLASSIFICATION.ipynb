{
 "cells": [
  {
   "cell_type": "markdown",
   "metadata": {},
   "source": [
    "**SUMBER: https://www.kaggle.com/anmolkumar/health-insurance-cross-sell-prediction?select=train.csv**"
   ]
  },
  {
   "cell_type": "markdown",
   "metadata": {},
   "source": [
    "# Importing Modules and Files"
   ]
  },
  {
   "cell_type": "code",
   "execution_count": 1,
   "metadata": {
    "code_folding": []
   },
   "outputs": [
    {
     "data": {
      "text/html": [
       "<style>.container { width:100% !important; }</style>"
      ],
      "text/plain": [
       "<IPython.core.display.HTML object>"
      ]
     },
     "metadata": {},
     "output_type": "display_data"
    },
    {
     "name": "stdout",
     "output_type": "stream",
     "text": [
      "Struktur data :\n"
     ]
    },
    {
     "data": {
      "text/html": [
       "<div>\n",
       "<style scoped>\n",
       "    .dataframe tbody tr th:only-of-type {\n",
       "        vertical-align: middle;\n",
       "    }\n",
       "\n",
       "    .dataframe tbody tr th {\n",
       "        vertical-align: top;\n",
       "    }\n",
       "\n",
       "    .dataframe thead th {\n",
       "        text-align: right;\n",
       "    }\n",
       "</style>\n",
       "<table border=\"1\" class=\"dataframe\">\n",
       "  <thead>\n",
       "    <tr style=\"text-align: right;\">\n",
       "      <th></th>\n",
       "      <th>id</th>\n",
       "      <th>Gender</th>\n",
       "      <th>Age</th>\n",
       "      <th>Driving_License</th>\n",
       "      <th>Region_Code</th>\n",
       "      <th>Previously_Insured</th>\n",
       "      <th>Vehicle_Age</th>\n",
       "      <th>Vehicle_Damage</th>\n",
       "      <th>Annual_Premium</th>\n",
       "      <th>Policy_Sales_Channel</th>\n",
       "      <th>Vintage</th>\n",
       "      <th>Response</th>\n",
       "    </tr>\n",
       "  </thead>\n",
       "  <tbody>\n",
       "    <tr>\n",
       "      <th>0</th>\n",
       "      <td>1</td>\n",
       "      <td>Male</td>\n",
       "      <td>44</td>\n",
       "      <td>1</td>\n",
       "      <td>28.0</td>\n",
       "      <td>0</td>\n",
       "      <td>&gt; 2 Years</td>\n",
       "      <td>Yes</td>\n",
       "      <td>40454.0</td>\n",
       "      <td>26.0</td>\n",
       "      <td>217</td>\n",
       "      <td>1</td>\n",
       "    </tr>\n",
       "  </tbody>\n",
       "</table>\n",
       "</div>"
      ],
      "text/plain": [
       "   id Gender  Age  Driving_License  Region_Code  Previously_Insured  \\\n",
       "0   1   Male   44                1         28.0                   0   \n",
       "\n",
       "  Vehicle_Age Vehicle_Damage  Annual_Premium  Policy_Sales_Channel  Vintage  \\\n",
       "0   > 2 Years            Yes         40454.0                  26.0      217   \n",
       "\n",
       "   Response  \n",
       "0         1  "
      ]
     },
     "metadata": {},
     "output_type": "display_data"
    },
    {
     "name": "stdout",
     "output_type": "stream",
     "text": [
      "Jumlah data :  381109\n"
     ]
    }
   ],
   "source": [
    "# Modul - modul yang diperlukan\n",
    "import pandas as pd, matplotlib.pyplot as plt, seaborn as sns, numpy as np, math, warnings\n",
    "from sklearn.utils import resample\n",
    "from scipy.stats import skew\n",
    "from sklearn.model_selection import train_test_split, GridSearchCV\n",
    "from sklearn.metrics import classification_report, confusion_matrix, recall_score, precision_score, f1_score, accuracy_score\n",
    "from sklearn.ensemble import RandomForestClassifier\n",
    "from sklearn.preprocessing import StandardScaler, MinMaxScaler, RobustScaler\n",
    "from sklearn.linear_model import LogisticRegression\n",
    "from sklearn.neighbors import KNeighborsClassifier\n",
    "from sklearn.svm import SVC\n",
    "from xgboost import XGBClassifier\n",
    "\n",
    "# Mengatur lebar dari cell agar memudahkan visualisasi dan analisis\n",
    "from IPython.core.display import display, HTML\n",
    "display(HTML(\"<style>.container { width:100% !important; }</style>\"))\n",
    "\n",
    "# Menghilangkan warning\n",
    "warnings.filterwarnings(\"ignore\")\n",
    "\n",
    "data = pd.read_csv(r\"C:\\Users\\Ezra\\Documents\\PURWADHIKA\\Latihan - Tugas\\ML\\Classification\\train.csv\")\n",
    "submission = pd.read_csv(r\"C:\\Users\\Ezra\\Documents\\PURWADHIKA\\Latihan - Tugas\\ML\\Classification\\sample_submission.csv\")\n",
    "\n",
    "print(\"Struktur data :\")\n",
    "display(data.head(1))\n",
    "print(\"Jumlah data : \", len(data))"
   ]
  },
  {
   "cell_type": "markdown",
   "metadata": {},
   "source": [
    "**Informasi tiap variabel**\n",
    "![title](var_info1.jpg)"
   ]
  },
  {
   "cell_type": "markdown",
   "metadata": {},
   "source": [
    "# Data Manipulating and Cleansing"
   ]
  },
  {
   "cell_type": "code",
   "execution_count": 2,
   "metadata": {
    "code_folding": [
     0
    ]
   },
   "outputs": [
    {
     "name": "stdout",
     "output_type": "stream",
     "text": [
      "Deskripsi masing - masing kolom :\n"
     ]
    },
    {
     "data": {
      "text/html": [
       "<div>\n",
       "<style scoped>\n",
       "    .dataframe tbody tr th:only-of-type {\n",
       "        vertical-align: middle;\n",
       "    }\n",
       "\n",
       "    .dataframe tbody tr th {\n",
       "        vertical-align: top;\n",
       "    }\n",
       "\n",
       "    .dataframe thead th {\n",
       "        text-align: right;\n",
       "    }\n",
       "</style>\n",
       "<table border=\"1\" class=\"dataframe\">\n",
       "  <thead>\n",
       "    <tr style=\"text-align: right;\">\n",
       "      <th></th>\n",
       "      <th>Columns Name</th>\n",
       "      <th>Data Type</th>\n",
       "      <th>NULL</th>\n",
       "      <th>NULL Percentage</th>\n",
       "      <th>Unique</th>\n",
       "      <th>Unique Samples</th>\n",
       "    </tr>\n",
       "  </thead>\n",
       "  <tbody>\n",
       "    <tr>\n",
       "      <th>0</th>\n",
       "      <td>id</td>\n",
       "      <td>int64</td>\n",
       "      <td>0</td>\n",
       "      <td>0.0</td>\n",
       "      <td>381109</td>\n",
       "      <td>[112058, 303893]</td>\n",
       "    </tr>\n",
       "    <tr>\n",
       "      <th>1</th>\n",
       "      <td>Gender</td>\n",
       "      <td>object</td>\n",
       "      <td>0</td>\n",
       "      <td>0.0</td>\n",
       "      <td>2</td>\n",
       "      <td>[Male, Female]</td>\n",
       "    </tr>\n",
       "    <tr>\n",
       "      <th>2</th>\n",
       "      <td>Age</td>\n",
       "      <td>int64</td>\n",
       "      <td>0</td>\n",
       "      <td>0.0</td>\n",
       "      <td>66</td>\n",
       "      <td>[28, 23]</td>\n",
       "    </tr>\n",
       "    <tr>\n",
       "      <th>3</th>\n",
       "      <td>Driving_License</td>\n",
       "      <td>int64</td>\n",
       "      <td>0</td>\n",
       "      <td>0.0</td>\n",
       "      <td>2</td>\n",
       "      <td>[1, 0]</td>\n",
       "    </tr>\n",
       "    <tr>\n",
       "      <th>4</th>\n",
       "      <td>Region_Code</td>\n",
       "      <td>float64</td>\n",
       "      <td>0</td>\n",
       "      <td>0.0</td>\n",
       "      <td>53</td>\n",
       "      <td>[3.0, 38.0]</td>\n",
       "    </tr>\n",
       "    <tr>\n",
       "      <th>5</th>\n",
       "      <td>Previously_Insured</td>\n",
       "      <td>int64</td>\n",
       "      <td>0</td>\n",
       "      <td>0.0</td>\n",
       "      <td>2</td>\n",
       "      <td>[0, 1]</td>\n",
       "    </tr>\n",
       "    <tr>\n",
       "      <th>6</th>\n",
       "      <td>Vehicle_Age</td>\n",
       "      <td>object</td>\n",
       "      <td>0</td>\n",
       "      <td>0.0</td>\n",
       "      <td>3</td>\n",
       "      <td>[&gt; 2 Years, 1-2 Year]</td>\n",
       "    </tr>\n",
       "    <tr>\n",
       "      <th>7</th>\n",
       "      <td>Vehicle_Damage</td>\n",
       "      <td>object</td>\n",
       "      <td>0</td>\n",
       "      <td>0.0</td>\n",
       "      <td>2</td>\n",
       "      <td>[Yes, No]</td>\n",
       "    </tr>\n",
       "    <tr>\n",
       "      <th>8</th>\n",
       "      <td>Annual_Premium</td>\n",
       "      <td>float64</td>\n",
       "      <td>0</td>\n",
       "      <td>0.0</td>\n",
       "      <td>48838</td>\n",
       "      <td>[59934.0, 24101.0]</td>\n",
       "    </tr>\n",
       "    <tr>\n",
       "      <th>9</th>\n",
       "      <td>Policy_Sales_Channel</td>\n",
       "      <td>float64</td>\n",
       "      <td>0</td>\n",
       "      <td>0.0</td>\n",
       "      <td>155</td>\n",
       "      <td>[7.0, 150.0]</td>\n",
       "    </tr>\n",
       "    <tr>\n",
       "      <th>10</th>\n",
       "      <td>Vintage</td>\n",
       "      <td>int64</td>\n",
       "      <td>0</td>\n",
       "      <td>0.0</td>\n",
       "      <td>290</td>\n",
       "      <td>[232, 22]</td>\n",
       "    </tr>\n",
       "    <tr>\n",
       "      <th>11</th>\n",
       "      <td>Response</td>\n",
       "      <td>int64</td>\n",
       "      <td>0</td>\n",
       "      <td>0.0</td>\n",
       "      <td>2</td>\n",
       "      <td>[1, 0]</td>\n",
       "    </tr>\n",
       "  </tbody>\n",
       "</table>\n",
       "</div>"
      ],
      "text/plain": [
       "            Columns Name Data Type  NULL  NULL Percentage  Unique  \\\n",
       "0                     id     int64     0              0.0  381109   \n",
       "1                 Gender    object     0              0.0       2   \n",
       "2                    Age     int64     0              0.0      66   \n",
       "3        Driving_License     int64     0              0.0       2   \n",
       "4            Region_Code   float64     0              0.0      53   \n",
       "5     Previously_Insured     int64     0              0.0       2   \n",
       "6            Vehicle_Age    object     0              0.0       3   \n",
       "7         Vehicle_Damage    object     0              0.0       2   \n",
       "8         Annual_Premium   float64     0              0.0   48838   \n",
       "9   Policy_Sales_Channel   float64     0              0.0     155   \n",
       "10               Vintage     int64     0              0.0     290   \n",
       "11              Response     int64     0              0.0       2   \n",
       "\n",
       "           Unique Samples  \n",
       "0        [112058, 303893]  \n",
       "1          [Male, Female]  \n",
       "2                [28, 23]  \n",
       "3                  [1, 0]  \n",
       "4             [3.0, 38.0]  \n",
       "5                  [0, 1]  \n",
       "6   [> 2 Years, 1-2 Year]  \n",
       "7               [Yes, No]  \n",
       "8      [59934.0, 24101.0]  \n",
       "9            [7.0, 150.0]  \n",
       "10              [232, 22]  \n",
       "11                 [1, 0]  "
      ]
     },
     "metadata": {},
     "output_type": "display_data"
    }
   ],
   "source": [
    "# Deskripsi data\n",
    "dataDesc = []\n",
    "for x in data.columns:\n",
    "    dataDesc.append([\n",
    "        x,\n",
    "        data[x].dtypes,\n",
    "        data[x].isnull().sum(),\n",
    "        round((((data[x].isnull().sum()) / (len(data))) * 100), 2),\n",
    "        len(data[x].unique()),\n",
    "        data[x].drop_duplicates().sample(2).values\n",
    "    ])\n",
    "\n",
    "print(\"Deskripsi masing - masing kolom :\")\n",
    "display(pd.DataFrame(data = dataDesc, columns = [\n",
    "    \"Columns Name\",\n",
    "    \"Data Type\",\n",
    "    \"NULL\",\n",
    "    \"NULL Percentage\",\n",
    "    \"Unique\",\n",
    "    \"Unique Samples\"\n",
    "]))\n",
    "\n",
    "# Drop 'Policy_Sales_Channel' karena tidak diketahui arti tiap nilainya\n",
    "data.drop(\"Policy_Sales_Channel\", 1, inplace = True)"
   ]
  },
  {
   "cell_type": "markdown",
   "metadata": {},
   "source": [
    "Variabel _Region Code_ seharusnya berbentuk _object_, bukan _float_ karena sifatnya yang bukan rasio. Selain itu, ada tiga kolom baru yang dibuat (_ageRange_, _vintageMonth_, _genderInt_, _vehicleDamageInt_, dan _vehicleAgeInt_) sebagai hasil konversi nilai aslinya. Dua kolom pertama dilakukan untuk mempermudah visualisasi dan analisis. Sedangkan, tiga kolom terakhir dikonversi agar dapat memperoleh nilai _skewness_ dan menampilkan korelasi."
   ]
  },
  {
   "cell_type": "code",
   "execution_count": 3,
   "metadata": {
    "code_folding": [
     0
    ]
   },
   "outputs": [],
   "source": [
    "# Mengubah tipe data 'Region_Code'\n",
    "data[\"Region_Code\"] = data[\"Region_Code\"].astype(str)"
   ]
  },
  {
   "cell_type": "code",
   "execution_count": 4,
   "metadata": {
    "code_folding": [
     0
    ]
   },
   "outputs": [],
   "source": [
    "# Binning kolom rentang umur\n",
    "# Jarak rentang diatur dengan 5 poin. Hal ini dikarenakan 5 tahun adalah angka yang paling ideal.\n",
    "# Kita ambil contoh rentang 8 / 10 tahun, maka pelanggan dengan umur 20 akan masuk ke kategori 20 - 28 / 20 - 30.\n",
    "# Hal tersebut tentu sangat tidak realistis mengingat pelanggan dengan umur 20 (baru masih kuliah / baru lulus) belum mempunyai penghasilan tetap layaknya pelanggan dengan usia cukup matang (28 - 30).\n",
    "# Pada sisi lain, jika jarak terlalu pendek (misal 3 tahun), maka kelompok akan terlalu banyak dan menyulitkan untuk visualisasi.\n",
    "ageRange, ar = [], range(data[\"Age\"].min(), data[\"Age\"].max(), 5)\n",
    "\n",
    "for a in data[\"Age\"]:\n",
    "    count = -1\n",
    "    for i, r in enumerate(ar):\n",
    "        count += 1\n",
    "        try:\n",
    "            if (r + count) <= a <= (ar[i + 1] + count):\n",
    "                ageRange.append(f\"{r + count} - {ar[i + 1] + count}\")\n",
    "                break\n",
    "            elif (ar[i + 1] + count + 1) <= a <= (ar[i + 2] + count + 1):\n",
    "                ageRange.append(f\"{ar[i + 1] + count + 1} - {ar[i + 2] + count + 1}\")\n",
    "                break\n",
    "        except:\n",
    "            ageRange.append(f\"> {r + 1}\")\n",
    "            break\n",
    "                \n",
    "data[\"ageRange\"] = ageRange"
   ]
  },
  {
   "cell_type": "code",
   "execution_count": 5,
   "metadata": {
    "code_folding": [
     0
    ]
   },
   "outputs": [],
   "source": [
    "# Binning 'Vintage' ke dalam bulan\n",
    "# Konversi dilakukan dengan pembulatan ke bawah.\n",
    "# Sehingga apabila hari adalah 269 (9 bulan kurang 1 hari), maka bulan dianggap 8\n",
    "data[\"vintageMonth\"] = data[\"Vintage\"].apply(lambda x : f\"{math.floor(x / 30)} bulan\")"
   ]
  },
  {
   "cell_type": "code",
   "execution_count": 6,
   "metadata": {
    "code_folding": [
     0
    ]
   },
   "outputs": [],
   "source": [
    "# Encode jenis kelamin\n",
    "data[\"genderInt\"] = [0 if x == \"Female\" else 1 for x in data[\"Gender\"] ]"
   ]
  },
  {
   "cell_type": "code",
   "execution_count": 7,
   "metadata": {
    "code_folding": [
     0
    ]
   },
   "outputs": [],
   "source": [
    "# Encode 'Vehicle_Damage'\n",
    "data[\"vehicleDamageInt\"] = [0 if x == \"No\" else 1 for x in data[\"Vehicle_Damage\"] ]"
   ]
  },
  {
   "cell_type": "code",
   "execution_count": 8,
   "metadata": {
    "code_folding": []
   },
   "outputs": [],
   "source": [
    "# Encode 'Vehicle_Age'\n",
    "vehicleAgeInt = []\n",
    "for x in data[\"Vehicle_Age\"]:\n",
    "    if x == \"< 1 Year\":\n",
    "        vehicleAgeInt.append(0)\n",
    "    elif x == \"1-2 Year\":\n",
    "        vehicleAgeInt.append(1)\n",
    "    else:\n",
    "        vehicleAgeInt.append(2)\n",
    "\n",
    "data[\"vehicleAgeInt\"] = vehicleAgeInt"
   ]
  },
  {
   "cell_type": "code",
   "execution_count": 9,
   "metadata": {},
   "outputs": [
    {
     "name": "stdout",
     "output_type": "stream",
     "text": [
      "Struktur data terbaru :\n"
     ]
    },
    {
     "data": {
      "text/html": [
       "<div>\n",
       "<style scoped>\n",
       "    .dataframe tbody tr th:only-of-type {\n",
       "        vertical-align: middle;\n",
       "    }\n",
       "\n",
       "    .dataframe tbody tr th {\n",
       "        vertical-align: top;\n",
       "    }\n",
       "\n",
       "    .dataframe thead th {\n",
       "        text-align: right;\n",
       "    }\n",
       "</style>\n",
       "<table border=\"1\" class=\"dataframe\">\n",
       "  <thead>\n",
       "    <tr style=\"text-align: right;\">\n",
       "      <th></th>\n",
       "      <th>id</th>\n",
       "      <th>Gender</th>\n",
       "      <th>Age</th>\n",
       "      <th>Driving_License</th>\n",
       "      <th>Region_Code</th>\n",
       "      <th>Previously_Insured</th>\n",
       "      <th>Vehicle_Age</th>\n",
       "      <th>Vehicle_Damage</th>\n",
       "      <th>Annual_Premium</th>\n",
       "      <th>Vintage</th>\n",
       "      <th>Response</th>\n",
       "      <th>ageRange</th>\n",
       "      <th>vintageMonth</th>\n",
       "      <th>genderInt</th>\n",
       "      <th>vehicleDamageInt</th>\n",
       "      <th>vehicleAgeInt</th>\n",
       "    </tr>\n",
       "  </thead>\n",
       "  <tbody>\n",
       "    <tr>\n",
       "      <th>0</th>\n",
       "      <td>1</td>\n",
       "      <td>Male</td>\n",
       "      <td>44</td>\n",
       "      <td>1</td>\n",
       "      <td>28.0</td>\n",
       "      <td>0</td>\n",
       "      <td>&gt; 2 Years</td>\n",
       "      <td>Yes</td>\n",
       "      <td>40454.0</td>\n",
       "      <td>217</td>\n",
       "      <td>1</td>\n",
       "      <td>44 - 49</td>\n",
       "      <td>7 bulan</td>\n",
       "      <td>1</td>\n",
       "      <td>1</td>\n",
       "      <td>2</td>\n",
       "    </tr>\n",
       "  </tbody>\n",
       "</table>\n",
       "</div>"
      ],
      "text/plain": [
       "   id Gender  Age  Driving_License Region_Code  Previously_Insured  \\\n",
       "0   1   Male   44                1        28.0                   0   \n",
       "\n",
       "  Vehicle_Age Vehicle_Damage  Annual_Premium  Vintage  Response ageRange  \\\n",
       "0   > 2 Years            Yes         40454.0      217         1  44 - 49   \n",
       "\n",
       "  vintageMonth  genderInt  vehicleDamageInt  vehicleAgeInt  \n",
       "0      7 bulan          1                 1              2  "
      ]
     },
     "metadata": {},
     "output_type": "display_data"
    }
   ],
   "source": [
    "print(\"Struktur data terbaru :\")\n",
    "display(data.head(1))"
   ]
  },
  {
   "cell_type": "markdown",
   "metadata": {},
   "source": [
    "**Tidak ada** kolom yang memiliki missing values. Dengan begitu, tidak perlu dilakukan penyesuaian data.\n",
    "\n",
    "**Variabel _Policy_Sales_Channel_ dieliminasi karena tidak diketahui apa arti dari setiap nilainya.**"
   ]
  },
  {
   "cell_type": "markdown",
   "metadata": {},
   "source": [
    "# Business Problem"
   ]
  },
  {
   "cell_type": "markdown",
   "metadata": {},
   "source": [
    "**-- Diperoleh langsung dari Kaggle (sumber data) --**\n",
    "\n",
    "Perusahaan asuransi ini sebelumnya bergerak di bidang asuransi kesehatan. Namun, sekarang mereka sedang mencoba merambah ke sektor asuransi kendaraan untuk memperlebar sayap perusahaan. Sekarang ini mereka sedang mencoba mendekati 127.307 (**jumlah _test file_**) pelanggan di asuransi kesehatan mereka dari tahun lalu untuk ditawari asuransi kendaraan. Namun, sebelum dilakukan pendekatan, mereka perlu memprediksi terlebih dahulu bagaimana kecenderungan ketertarikan para pelanggan tersebut ke asuransi baru ini. Hal ini dilakukan agar tipe / cara komunikasi, pemasaran, dan efisiensi waktu dan tenaga dapat diatur sedemikian rupa sehingga efektifitas penjualan dapat dicapai. Dikhawatirkan, bila pemetaan tidak dilakukan maka materi dan waktu perusahaan akan terbuang pada pelanggan yang tidak potensial. **Namun, pertimbangan yang paling krusial sebenarnya adalah konteks persaingan antar perusahaan asuransi kendaraan**. Bila perusahaan tidak dapat memetakan calon pelanggannya, maka dikhawatirkan mereka didekati dan diambil alih oleh perusahaan saingan.\n",
    "\n",
    "**Untuk menunjang keperluan prediksi, perusahaan menyediakan 381.109 (jumlah *train file*) data pelanggan yang sudah memberikan jawaban terhadap ketertarikannya pada asuransi kendaraan.**"
   ]
  },
  {
   "cell_type": "markdown",
   "metadata": {},
   "source": [
    "# Goals"
   ]
  },
  {
   "cell_type": "markdown",
   "metadata": {},
   "source": [
    "Mencari **korelasi** dan membuat **prediksi** ketertarikan pelanggan terhadap asuransi kendaraan perusahaan."
   ]
  },
  {
   "cell_type": "markdown",
   "metadata": {},
   "source": [
    "# EDA"
   ]
  },
  {
   "cell_type": "markdown",
   "metadata": {},
   "source": [
    "## Outliers"
   ]
  },
  {
   "cell_type": "code",
   "execution_count": 10,
   "metadata": {
    "code_folding": [
     0
    ]
   },
   "outputs": [
    {
     "name": "stdout",
     "output_type": "stream",
     "text": [
      "Statistik tiap kolom :\n"
     ]
    },
    {
     "data": {
      "text/html": [
       "<div>\n",
       "<style scoped>\n",
       "    .dataframe tbody tr th:only-of-type {\n",
       "        vertical-align: middle;\n",
       "    }\n",
       "\n",
       "    .dataframe tbody tr th {\n",
       "        vertical-align: top;\n",
       "    }\n",
       "\n",
       "    .dataframe thead th {\n",
       "        text-align: right;\n",
       "    }\n",
       "</style>\n",
       "<table border=\"1\" class=\"dataframe\">\n",
       "  <thead>\n",
       "    <tr style=\"text-align: right;\">\n",
       "      <th></th>\n",
       "      <th>id</th>\n",
       "      <th>Age</th>\n",
       "      <th>Driving_License</th>\n",
       "      <th>Previously_Insured</th>\n",
       "      <th>Annual_Premium</th>\n",
       "      <th>Vintage</th>\n",
       "      <th>Response</th>\n",
       "      <th>genderInt</th>\n",
       "      <th>vehicleDamageInt</th>\n",
       "      <th>vehicleAgeInt</th>\n",
       "    </tr>\n",
       "  </thead>\n",
       "  <tbody>\n",
       "    <tr>\n",
       "      <th>count</th>\n",
       "      <td>381109.000000</td>\n",
       "      <td>381109.000000</td>\n",
       "      <td>381109.000000</td>\n",
       "      <td>381109.000000</td>\n",
       "      <td>381109.000000</td>\n",
       "      <td>381109.000000</td>\n",
       "      <td>381109.000000</td>\n",
       "      <td>381109.000000</td>\n",
       "      <td>381109.000000</td>\n",
       "      <td>381109.000000</td>\n",
       "    </tr>\n",
       "    <tr>\n",
       "      <th>mean</th>\n",
       "      <td>190555.000000</td>\n",
       "      <td>38.822584</td>\n",
       "      <td>0.997869</td>\n",
       "      <td>0.458210</td>\n",
       "      <td>30564.389581</td>\n",
       "      <td>154.347397</td>\n",
       "      <td>0.122563</td>\n",
       "      <td>0.540761</td>\n",
       "      <td>0.504877</td>\n",
       "      <td>0.609616</td>\n",
       "    </tr>\n",
       "    <tr>\n",
       "      <th>std</th>\n",
       "      <td>110016.836208</td>\n",
       "      <td>15.511611</td>\n",
       "      <td>0.046110</td>\n",
       "      <td>0.498251</td>\n",
       "      <td>17213.155057</td>\n",
       "      <td>83.671304</td>\n",
       "      <td>0.327936</td>\n",
       "      <td>0.498336</td>\n",
       "      <td>0.499977</td>\n",
       "      <td>0.567439</td>\n",
       "    </tr>\n",
       "    <tr>\n",
       "      <th>min</th>\n",
       "      <td>1.000000</td>\n",
       "      <td>20.000000</td>\n",
       "      <td>0.000000</td>\n",
       "      <td>0.000000</td>\n",
       "      <td>2630.000000</td>\n",
       "      <td>10.000000</td>\n",
       "      <td>0.000000</td>\n",
       "      <td>0.000000</td>\n",
       "      <td>0.000000</td>\n",
       "      <td>0.000000</td>\n",
       "    </tr>\n",
       "    <tr>\n",
       "      <th>25%</th>\n",
       "      <td>95278.000000</td>\n",
       "      <td>25.000000</td>\n",
       "      <td>1.000000</td>\n",
       "      <td>0.000000</td>\n",
       "      <td>24405.000000</td>\n",
       "      <td>82.000000</td>\n",
       "      <td>0.000000</td>\n",
       "      <td>0.000000</td>\n",
       "      <td>0.000000</td>\n",
       "      <td>0.000000</td>\n",
       "    </tr>\n",
       "    <tr>\n",
       "      <th>50%</th>\n",
       "      <td>190555.000000</td>\n",
       "      <td>36.000000</td>\n",
       "      <td>1.000000</td>\n",
       "      <td>0.000000</td>\n",
       "      <td>31669.000000</td>\n",
       "      <td>154.000000</td>\n",
       "      <td>0.000000</td>\n",
       "      <td>1.000000</td>\n",
       "      <td>1.000000</td>\n",
       "      <td>1.000000</td>\n",
       "    </tr>\n",
       "    <tr>\n",
       "      <th>75%</th>\n",
       "      <td>285832.000000</td>\n",
       "      <td>49.000000</td>\n",
       "      <td>1.000000</td>\n",
       "      <td>1.000000</td>\n",
       "      <td>39400.000000</td>\n",
       "      <td>227.000000</td>\n",
       "      <td>0.000000</td>\n",
       "      <td>1.000000</td>\n",
       "      <td>1.000000</td>\n",
       "      <td>1.000000</td>\n",
       "    </tr>\n",
       "    <tr>\n",
       "      <th>max</th>\n",
       "      <td>381109.000000</td>\n",
       "      <td>85.000000</td>\n",
       "      <td>1.000000</td>\n",
       "      <td>1.000000</td>\n",
       "      <td>540165.000000</td>\n",
       "      <td>299.000000</td>\n",
       "      <td>1.000000</td>\n",
       "      <td>1.000000</td>\n",
       "      <td>1.000000</td>\n",
       "      <td>2.000000</td>\n",
       "    </tr>\n",
       "  </tbody>\n",
       "</table>\n",
       "</div>"
      ],
      "text/plain": [
       "                  id            Age  Driving_License  Previously_Insured  \\\n",
       "count  381109.000000  381109.000000    381109.000000       381109.000000   \n",
       "mean   190555.000000      38.822584         0.997869            0.458210   \n",
       "std    110016.836208      15.511611         0.046110            0.498251   \n",
       "min         1.000000      20.000000         0.000000            0.000000   \n",
       "25%     95278.000000      25.000000         1.000000            0.000000   \n",
       "50%    190555.000000      36.000000         1.000000            0.000000   \n",
       "75%    285832.000000      49.000000         1.000000            1.000000   \n",
       "max    381109.000000      85.000000         1.000000            1.000000   \n",
       "\n",
       "       Annual_Premium        Vintage       Response      genderInt  \\\n",
       "count   381109.000000  381109.000000  381109.000000  381109.000000   \n",
       "mean     30564.389581     154.347397       0.122563       0.540761   \n",
       "std      17213.155057      83.671304       0.327936       0.498336   \n",
       "min       2630.000000      10.000000       0.000000       0.000000   \n",
       "25%      24405.000000      82.000000       0.000000       0.000000   \n",
       "50%      31669.000000     154.000000       0.000000       1.000000   \n",
       "75%      39400.000000     227.000000       0.000000       1.000000   \n",
       "max     540165.000000     299.000000       1.000000       1.000000   \n",
       "\n",
       "       vehicleDamageInt  vehicleAgeInt  \n",
       "count     381109.000000  381109.000000  \n",
       "mean           0.504877       0.609616  \n",
       "std            0.499977       0.567439  \n",
       "min            0.000000       0.000000  \n",
       "25%            0.000000       0.000000  \n",
       "50%            1.000000       1.000000  \n",
       "75%            1.000000       1.000000  \n",
       "max            1.000000       2.000000  "
      ]
     },
     "metadata": {},
     "output_type": "display_data"
    }
   ],
   "source": [
    "# Statistik data\n",
    "print(\"Statistik tiap kolom :\")\n",
    "display(data.describe())"
   ]
  },
  {
   "cell_type": "markdown",
   "metadata": {},
   "source": [
    "Sebenarnya, terdapat _outliers_ pada nilai premi pelanggan. Hal itu pertama kali dapat kita deteksi dari nilai Q3 dan nilai maksimumnya yang sangat jauh. Visualisasi lebih lanjutnya dapat kita lihat dari dua grafik di bawah."
   ]
  },
  {
   "cell_type": "code",
   "execution_count": 11,
   "metadata": {
    "code_folding": [
     0
    ]
   },
   "outputs": [
    {
     "data": {
      "image/png": "[encoded data removed]",
      "text/plain": [
       "<Figure size 432x288 with 1 Axes>"
      ]
     },
     "metadata": {
      "needs_background": "light"
     },
     "output_type": "display_data"
    },
    {
     "data": {
      "image/png": "[encoded data removed]",
      "text/plain": [
       "<Figure size 432x288 with 1 Axes>"
      ]
     },
     "metadata": {
      "needs_background": "light"
     },
     "output_type": "display_data"
    }
   ],
   "source": [
    "# Outliers dan distibusi pada 'Annual_Premium'\n",
    "plt.boxplot(data[\"Annual_Premium\"])\n",
    "plt.title(\"Outliers pada Nilai Premi\", fontdict = {'fontsize': 16,\n",
    "        'fontweight' : \"bold\",\n",
    "        'color' : \"black\",\n",
    "        'verticalalignment': 'baseline',\n",
    "        'horizontalalignment': \"center\"\n",
    "        }, y = 1.03)\n",
    "plt.ylabel(\"Nilai Premi\", fontdict = {\"weight\" : \"bold\"})\n",
    "\n",
    "plt.show()\n",
    "\n",
    "plt.hist(data[\"Annual_Premium\"], bins = 200, color = \"lightblue\")\n",
    "plt.title(\"Distribusi Nilai Premi\", fontdict = {'fontsize': 16,\n",
    "        'fontweight' : \"bold\",\n",
    "        'color' : \"black\",\n",
    "        'verticalalignment': 'baseline',\n",
    "        'horizontalalignment': \"center\"\n",
    "        }, y = 1.03)\n",
    "plt.ylabel(\"Jumlah Pelanggan\", fontdict = {\"weight\" : \"bold\"})\n",
    "plt.xlabel(\"Nilai Premi (USD)\", fontdict = {\"weight\" : \"bold\"})\n",
    "plt.show()"
   ]
  },
  {
   "cell_type": "markdown",
   "metadata": {},
   "source": [
    "Namun, diputuskan untuk tidak mengeliminasi data - data tersebut. Hal ini didasari oleh jumlahnya tidak signifikan. Dapat dilihat dari histogram di atas bahwa nilai premi tersentralisasi sampai rentang kira - kira 70.000 USD, sedangkan nilai di atas itu hampir tidak terlihat. Oleh karena itu, _outliers_ dirasa tidak akan terlalu berpengaruh pada _modelling_ nantinya."
   ]
  },
  {
   "cell_type": "markdown",
   "metadata": {},
   "source": [
    "## Distribusi dan Korelasi"
   ]
  },
  {
   "cell_type": "code",
   "execution_count": 12,
   "metadata": {
    "code_folding": [
     0
    ]
   },
   "outputs": [
    {
     "name": "stdout",
     "output_type": "stream",
     "text": [
      "Proporsi ketertarikan :\n"
     ]
    },
    {
     "data": {
      "text/html": [
       "<div>\n",
       "<style scoped>\n",
       "    .dataframe tbody tr th:only-of-type {\n",
       "        vertical-align: middle;\n",
       "    }\n",
       "\n",
       "    .dataframe tbody tr th {\n",
       "        vertical-align: top;\n",
       "    }\n",
       "\n",
       "    .dataframe thead th {\n",
       "        text-align: right;\n",
       "    }\n",
       "</style>\n",
       "<table border=\"1\" class=\"dataframe\">\n",
       "  <thead>\n",
       "    <tr style=\"text-align: right;\">\n",
       "      <th></th>\n",
       "      <th>Presentase</th>\n",
       "    </tr>\n",
       "  </thead>\n",
       "  <tbody>\n",
       "    <tr>\n",
       "      <th>Tidak Tertarik</th>\n",
       "      <td>87.74</td>\n",
       "    </tr>\n",
       "    <tr>\n",
       "      <th>Tertarik</th>\n",
       "      <td>12.26</td>\n",
       "    </tr>\n",
       "  </tbody>\n",
       "</table>\n",
       "</div>"
      ],
      "text/plain": [
       "                Presentase\n",
       "Tidak Tertarik       87.74\n",
       "Tertarik             12.26"
      ]
     },
     "metadata": {},
     "output_type": "display_data"
    }
   ],
   "source": [
    "# Distribusi ketertarikan\n",
    "print(\"Proporsi ketertarikan :\")\n",
    "responsePerc = ((pd.crosstab(data[\"Response\"], columns = \"count\", normalize = \"columns\") * 100).round(2)).rename(columns = {\"count\" : \"Presentase\"})\n",
    "responsePerc.columns.name = \"\"\n",
    "responsePerc.index = [\"Tidak Tertarik\", \"Tertarik\"]\n",
    "display(responsePerc)"
   ]
  },
  {
   "cell_type": "markdown",
   "metadata": {},
   "source": [
    "Data _target_ sangat tidak seimbang dan tidak terdistribusi dengan normal. Maka dari itu, pada saat _modelling_ nanti harus dilakukan penyesuaian."
   ]
  },
  {
   "cell_type": "code",
   "execution_count": 13,
   "metadata": {
    "code_folding": [
     0
    ]
   },
   "outputs": [
    {
     "name": "stdout",
     "output_type": "stream",
     "text": [
      "Korelasi 'Previously_Insured' dengan ketertarikan :\n"
     ]
    },
    {
     "data": {
      "text/html": [
       "<div>\n",
       "<style scoped>\n",
       "    .dataframe tbody tr th:only-of-type {\n",
       "        vertical-align: middle;\n",
       "    }\n",
       "\n",
       "    .dataframe tbody tr th {\n",
       "        vertical-align: top;\n",
       "    }\n",
       "\n",
       "    .dataframe thead th {\n",
       "        text-align: right;\n",
       "    }\n",
       "</style>\n",
       "<table border=\"1\" class=\"dataframe\">\n",
       "  <thead>\n",
       "    <tr style=\"text-align: right;\">\n",
       "      <th></th>\n",
       "      <th>Tidak Tertarik</th>\n",
       "      <th>Tertarik</th>\n",
       "    </tr>\n",
       "  </thead>\n",
       "  <tbody>\n",
       "    <tr>\n",
       "      <th>Belum Memiliki</th>\n",
       "      <td>77.45</td>\n",
       "      <td>22.55</td>\n",
       "    </tr>\n",
       "    <tr>\n",
       "      <th>Sudah Memiliki</th>\n",
       "      <td>99.91</td>\n",
       "      <td>0.09</td>\n",
       "    </tr>\n",
       "  </tbody>\n",
       "</table>\n",
       "</div>"
      ],
      "text/plain": [
       "                Tidak Tertarik  Tertarik\n",
       "Belum Memiliki           77.45     22.55\n",
       "Sudah Memiliki           99.91      0.09"
      ]
     },
     "metadata": {},
     "output_type": "display_data"
    }
   ],
   "source": [
    "# Korelasi 'Previously_Insured' dengan ketertarikan\n",
    "print(\"Korelasi 'Previously_Insured' dengan ketertarikan :\")\n",
    "prevInsured = ((pd.crosstab(data[\"Previously_Insured\"], data[\"Response\"], normalize = \"index\") * 100).round(2)).rename(columns = {0 : \"Tidak Tertarik\", 1 : \"Tertarik\"})\n",
    "prevInsured.columns.name = \"\"\n",
    "prevInsured.index = [\"Belum Memiliki\", \"Sudah Memiliki\"]\n",
    "display(prevInsured)"
   ]
  },
  {
   "cell_type": "markdown",
   "metadata": {},
   "source": [
    "Variabel ini sangat rasional dan tidak mengejutkan. Jika pelanggan sudah memiliki asuransi kendaraan, maka kemungkinan untuk dia tertarik terhadap asuransi kendaraan perusahaan sangat kecil. Namun, jika ia belum memiliki asuransi kendaraan pun peluang untuk tidak tertariknya masih tinggi."
   ]
  },
  {
   "cell_type": "code",
   "execution_count": 14,
   "metadata": {
    "code_folding": [
     0
    ]
   },
   "outputs": [
    {
     "name": "stdout",
     "output_type": "stream",
     "text": [
      "Distribusi kepemilikan izin berkendara :\n"
     ]
    },
    {
     "data": {
      "text/html": [
       "<div>\n",
       "<style scoped>\n",
       "    .dataframe tbody tr th:only-of-type {\n",
       "        vertical-align: middle;\n",
       "    }\n",
       "\n",
       "    .dataframe tbody tr th {\n",
       "        vertical-align: top;\n",
       "    }\n",
       "\n",
       "    .dataframe thead th {\n",
       "        text-align: right;\n",
       "    }\n",
       "</style>\n",
       "<table border=\"1\" class=\"dataframe\">\n",
       "  <thead>\n",
       "    <tr style=\"text-align: right;\">\n",
       "      <th></th>\n",
       "      <th>Presentase</th>\n",
       "    </tr>\n",
       "  </thead>\n",
       "  <tbody>\n",
       "    <tr>\n",
       "      <th>Belum Memiliki</th>\n",
       "      <td>0.21</td>\n",
       "    </tr>\n",
       "    <tr>\n",
       "      <th>Sudah Memiliki</th>\n",
       "      <td>99.79</td>\n",
       "    </tr>\n",
       "  </tbody>\n",
       "</table>\n",
       "</div>"
      ],
      "text/plain": [
       "                Presentase\n",
       "Belum Memiliki        0.21\n",
       "Sudah Memiliki       99.79"
      ]
     },
     "metadata": {},
     "output_type": "display_data"
    }
   ],
   "source": [
    "# Distribusi kepemilikan izin berkendara\n",
    "print(\"Distribusi kepemilikan izin berkendara :\")\n",
    "licenseDist = ((pd.crosstab(data[\"Driving_License\"], columns=\"count\", normalize=\"columns\") * 100).round(2)).rename(columns = {\"count\" : \"Presentase\"})\n",
    "licenseDist.columns.name = \"\"\n",
    "licenseDist.index = [\"Belum Memiliki\", \"Sudah Memiliki\"]\n",
    "display(licenseDist)"
   ]
  },
  {
   "cell_type": "markdown",
   "metadata": {},
   "source": [
    "Hampir seluruh pelanggan dalam data ini memiliki izin berkendara. Oleh karena itu, tidak perlu lagi mencari korelasinya dengan ketertarikan."
   ]
  },
  {
   "cell_type": "code",
   "execution_count": 15,
   "metadata": {
    "code_folding": [
     0
    ]
   },
   "outputs": [
    {
     "data": {
      "image/png": "[encoded data removed]",
      "text/plain": [
       "<Figure size 432x288 with 1 Axes>"
      ]
     },
     "metadata": {
      "needs_background": "light"
     },
     "output_type": "display_data"
    }
   ],
   "source": [
    "# Distribusi umur\n",
    "plt.hist(data[\"Age\"], bins = 100, color = \"black\")\n",
    "plt.title(\"Distribusi Umur\", fontdict = {'fontsize': 16,\n",
    "        'fontweight' : \"bold\",\n",
    "        'color' : \"black\",\n",
    "        'verticalalignment': 'baseline',\n",
    "        'horizontalalignment': \"center\"\n",
    "        }, y = 1.03)\n",
    "plt.ylabel(\"Jumlah Pelanggan\", fontdict = {\"weight\" : \"bold\"})\n",
    "plt.xlabel(\"Umur\", fontdict = {\"weight\" : \"bold\"})\n",
    "\n",
    "plt.show()"
   ]
  },
  {
   "cell_type": "markdown",
   "metadata": {},
   "source": [
    "Pelanggan yang muda mendominasi data."
   ]
  },
  {
   "cell_type": "code",
   "execution_count": 16,
   "metadata": {
    "code_folding": [
     0
    ]
   },
   "outputs": [
    {
     "data": {
      "image/png": "[encoded data removed]",
      "text/plain": [
       "<Figure size 576x360 with 1 Axes>"
      ]
     },
     "metadata": {
      "needs_background": "light"
     },
     "output_type": "display_data"
    },
    {
     "name": "stdout",
     "output_type": "stream",
     "text": [
      "Nilai skewness umur :  0.67 . Artinya, distribusi bersifat moderate positive skewness.\n",
      "\n",
      "Asumsi normalitas distribusi data tidak terpenuhi. Maka itu, korelasi menggunakan metode Spearman :\n"
     ]
    },
    {
     "data": {
      "text/html": [
       "<div>\n",
       "<style scoped>\n",
       "    .dataframe tbody tr th:only-of-type {\n",
       "        vertical-align: middle;\n",
       "    }\n",
       "\n",
       "    .dataframe tbody tr th {\n",
       "        vertical-align: top;\n",
       "    }\n",
       "\n",
       "    .dataframe thead th {\n",
       "        text-align: right;\n",
       "    }\n",
       "</style>\n",
       "<table border=\"1\" class=\"dataframe\">\n",
       "  <thead>\n",
       "    <tr style=\"text-align: right;\">\n",
       "      <th></th>\n",
       "      <th>Age</th>\n",
       "      <th>Response</th>\n",
       "    </tr>\n",
       "  </thead>\n",
       "  <tbody>\n",
       "    <tr>\n",
       "      <th>Age</th>\n",
       "      <td>1.00000</td>\n",
       "      <td>0.14436</td>\n",
       "    </tr>\n",
       "    <tr>\n",
       "      <th>Response</th>\n",
       "      <td>0.14436</td>\n",
       "      <td>1.00000</td>\n",
       "    </tr>\n",
       "  </tbody>\n",
       "</table>\n",
       "</div>"
      ],
      "text/plain": [
       "              Age  Response\n",
       "Age       1.00000   0.14436\n",
       "Response  0.14436   1.00000"
      ]
     },
     "metadata": {},
     "output_type": "display_data"
    }
   ],
   "source": [
    "# Hubungan antara umur dan ketertarikan\n",
    "plt.figure(figsize = (8, 5))\n",
    "ax = sns.violinplot(x = data[\"Response\"], y = data[\"Age\"], palette = \"Accent\")\n",
    "plt.title(\"Distribusi Umur per Ketertarikan\", fontdict = {'fontsize': 16,\n",
    "        'fontweight' : \"bold\",\n",
    "        'color' : \"black\",\n",
    "        'verticalalignment': 'baseline',\n",
    "        'horizontalalignment': \"center\"\n",
    "        }, y = 1.03)\n",
    "plt.ylabel(\"Umur\", fontdict = {\"weight\" : \"bold\"})\n",
    "plt.xlabel(\"Ketertarikan\", fontdict = {\"weight\" : \"bold\"})\n",
    "ax.set_xticklabels([\"Tidak Tertarik\", \"Tertarik\"])\n",
    "\n",
    "plt.show()\n",
    "\n",
    "# Nilai korelasi antara umur dan ketertarikan\n",
    "print(\"Nilai skewness umur : \", round(skew(data[\"Age\"]), 2), \". Artinya, distribusi bersifat moderate positive skewness.\")\n",
    "print(\"\\nAsumsi normalitas distribusi data tidak terpenuhi. Maka itu, korelasi menggunakan metode Spearman :\")\n",
    "display(data[[\"Age\", \"Response\"]].corr(\"spearman\"))"
   ]
  },
  {
   "cell_type": "markdown",
   "metadata": {},
   "source": [
    "Pelanggan yang tergolong muda - usia produktif memiliki kecenderungan yang lebih besar untuk menolak asuransi kendaraan perusahaan. Lebih tepatnya, kelompok ini berada di sekitar 20 - 28 tahun. Sedangkan pada sisi lain pelanggan yang berumur tua (37 - 52) akan lebih cenderung menerima penawaran. Hal ini kemungkinan besar disebabkan oleh kemapanan ekonomi. Pelanggan dengan umur yang cenderung masih muda (bahkan mungkin baru mulai berkerja) tentunya memiliki kestabilan penghasilan yang berbeda dengan pelanggan di umur lebih tua. Maka dari itu porsi pengeluaran yang dialokasikan, terutama untuk kebutuhan primer seperti asuransi kendaraan, akan turut berdampak. Meskipun begitu, nilai korelasinya ternyata tidak terlalu kuat."
   ]
  },
  {
   "cell_type": "code",
   "execution_count": 17,
   "metadata": {
    "code_folding": [
     0
    ]
   },
   "outputs": [
    {
     "data": {
      "image/png": "[encoded data removed]",
      "text/plain": [
       "<Figure size 576x360 with 1 Axes>"
      ]
     },
     "metadata": {
      "needs_background": "light"
     },
     "output_type": "display_data"
    },
    {
     "name": "stdout",
     "output_type": "stream",
     "text": [
      "Nilai skewness umur :  1.77 . Artinya, distribusi bersifat severe positive skewness.\n",
      "\n",
      "Asumsi normalitas distribusi data tidak terpenuhi. Maka itu, korelasi menggunakan metode Spearman :\n"
     ]
    },
    {
     "data": {
      "text/html": [
       "<div>\n",
       "<style scoped>\n",
       "    .dataframe tbody tr th:only-of-type {\n",
       "        vertical-align: middle;\n",
       "    }\n",
       "\n",
       "    .dataframe tbody tr th {\n",
       "        vertical-align: top;\n",
       "    }\n",
       "\n",
       "    .dataframe thead th {\n",
       "        text-align: right;\n",
       "    }\n",
       "</style>\n",
       "<table border=\"1\" class=\"dataframe\">\n",
       "  <thead>\n",
       "    <tr style=\"text-align: right;\">\n",
       "      <th></th>\n",
       "      <th>Annual_Premium</th>\n",
       "      <th>Response</th>\n",
       "    </tr>\n",
       "  </thead>\n",
       "  <tbody>\n",
       "    <tr>\n",
       "      <th>Annual_Premium</th>\n",
       "      <td>1.000000</td>\n",
       "      <td>0.033991</td>\n",
       "    </tr>\n",
       "    <tr>\n",
       "      <th>Response</th>\n",
       "      <td>0.033991</td>\n",
       "      <td>1.000000</td>\n",
       "    </tr>\n",
       "  </tbody>\n",
       "</table>\n",
       "</div>"
      ],
      "text/plain": [
       "                Annual_Premium  Response\n",
       "Annual_Premium        1.000000  0.033991\n",
       "Response              0.033991  1.000000"
      ]
     },
     "metadata": {},
     "output_type": "display_data"
    }
   ],
   "source": [
    "# Hubungan antara premi dan ketertarikan\n",
    "plt.figure(figsize = (8, 5))\n",
    "ax = sns.violinplot(x = data[\"Response\"], y = data[\"Annual_Premium\"], palette = \"Accent\")\n",
    "plt.title(\"Distribusi Premi per Ketertarikan\", fontdict = {'fontsize': 16,\n",
    "        'fontweight' : \"bold\",\n",
    "        'color' : \"black\",\n",
    "        'verticalalignment': 'baseline',\n",
    "        'horizontalalignment': \"center\"\n",
    "        }, y = 1.03)\n",
    "plt.ylabel(\"Premi\", fontdict = {\"weight\" : \"bold\"})\n",
    "plt.xlabel(\"Ketertarikan\", fontdict = {\"weight\" : \"bold\"})\n",
    "ax.set_xticklabels([\"Tidak Tertarik\", \"Tertarik\"])\n",
    "\n",
    "plt.show()\n",
    "\n",
    "# Nilai korelasi antara premi dan ketertarikan\n",
    "print(\"Nilai skewness umur : \", round(skew(data[\"Annual_Premium\"]), 2), \". Artinya, distribusi bersifat severe positive skewness.\")\n",
    "print(\"\\nAsumsi normalitas distribusi data tidak terpenuhi. Maka itu, korelasi menggunakan metode Spearman :\")\n",
    "display(data[[\"Annual_Premium\", \"Response\"]].corr(\"spearman\"))"
   ]
  },
  {
   "cell_type": "markdown",
   "metadata": {},
   "source": [
    "Variabel premi secara tunggal bisa dikatakan tidak memiliki korelasi dengan ketertarikan pelanggan. Pertama, bisa kita lihat dari _violin plot_ yang menunjukkan sentralisasi data yang sama untuk kedua keputusan pelanggan. Kedua, nilai korelasi hampir bernilai 0.\n",
    "\n",
    "Oleh karenanya, kedua variabel di atas dikombinasikan untuk dicoba dicari hubungannya."
   ]
  },
  {
   "cell_type": "code",
   "execution_count": 18,
   "metadata": {
    "code_folding": [
     0
    ]
   },
   "outputs": [
    {
     "data": {
      "image/png": "[encoded data removed]",
      "text/plain": [
       "<Figure size 1296x576 with 1 Axes>"
      ]
     },
     "metadata": {
      "needs_background": "light"
     },
     "output_type": "display_data"
    }
   ],
   "source": [
    "# Hubungan antara premi dan kelompok umur per ketertarikan\n",
    "plt.figure(figsize = (18, 8))\n",
    "sns.stripplot(data.sort_values(\"ageRange\", ascending = True)[\"ageRange\"], data.sort_values(\"ageRange\", ascending = True)[\"Annual_Premium\"], palette = \"Set1\", hue = data[\"Response\"], dodge = True)\n",
    "plt.title(\"Distribusi Premi per Kelompok Umur\", fontdict = {'fontsize': 16,\n",
    "        'fontweight' : \"bold\",\n",
    "        'color' : \"black\",\n",
    "        'verticalalignment': 'baseline',\n",
    "        'horizontalalignment': \"center\"\n",
    "        }, y = 1.03)\n",
    "plt.ylabel(\"Premi\", fontdict = {\"weight\" : \"bold\"})\n",
    "plt.xlabel(\"Kelompok Umur (Tahun)\", fontdict = {\"weight\" : \"bold\"})\n",
    "plt.legend([\"Tidak Tertarik\", \"Tertarik\"])\n",
    "\n",
    "plt.show()"
   ]
  },
  {
   "cell_type": "markdown",
   "metadata": {},
   "source": [
    "Dapat dilihat bahwa semakin tinggi kelompok umur dan semakin tinggi nilai preminya, maka kecenderungan pelanggan untuk tertarik semakin tinggi dengan puncaknya di umur sekitar 38 - 49 tahun. Hal tersebut diikuti dengan penurunan jumlah pelanggan yang tidak tertarik. Namun, tren ini hanya berlaku bagi pelanggan berumur sekitar 20 - 49 tahun. Pola menjadi terbalik memasuki umur 50an hingga kelompok umur terakhir. Sekali lagi, kemungkinan faktor terkuatnya adalah penghasilan."
   ]
  },
  {
   "cell_type": "code",
   "execution_count": 19,
   "metadata": {
    "code_folding": [
     0
    ]
   },
   "outputs": [
    {
     "name": "stdout",
     "output_type": "stream",
     "text": [
      "Nilai skewness jenis kelamin :  -0.16 . Artinya, distribusi masih tergolong normal.\n"
     ]
    },
    {
     "data": {
      "image/png": "[encoded data removed]",
      "text/plain": [
       "<Figure size 432x504 with 1 Axes>"
      ]
     },
     "metadata": {
      "needs_background": "light"
     },
     "output_type": "display_data"
    }
   ],
   "source": [
    "# Hubungan antara jenis kelamin dengan ketertarikan\n",
    "# Nilai korelasi antara jenis kelamin dengan ketertarikan\n",
    "print(\"Nilai skewness jenis kelamin : \", round(skew(data[\"genderInt\"]), 2), \". Artinya, distribusi masih tergolong normal.\")\n",
    "# Distribusi jenis kelamin per ketertarikan\n",
    "genderPerc = pd.crosstab(data[\"Gender\"], data[\"Response\"], normalize = \"index\") * 100\n",
    "\n",
    "# Memakai subplots karena ingin membuang frame bagian atas\n",
    "fig, ax = plt.subplots(figsize = (6,7))\n",
    "ax.spines[\"top\"].set_visible(False)\n",
    "plt.bar(genderPerc.index, genderPerc[0],\n",
    "       color = \"red\",\n",
    "       alpha = 0.85,\n",
    "       width = 0.3,\n",
    "       linewidth = 1)\n",
    "\n",
    "plt.bar(genderPerc.index, genderPerc[1],\n",
    "       color = \"green\",\n",
    "       alpha = 0.7,\n",
    "       width = 0.3,\n",
    "       linewidth = 1)\n",
    "plt.legend((\"Tidak Tertarik\", \"Tertarik\"))\n",
    "plt.ylim(0, 100)\n",
    "plt.title(\"Proporsi Pelanggan per Jenis Kelamin per Ketertarikan\", fontdict = {'fontsize': 14,\n",
    "        'fontweight' : \"bold\",\n",
    "        'color' : \"black\",\n",
    "        'verticalalignment': 'baseline',\n",
    "        'horizontalalignment': \"center\"\n",
    "        }, y = 1.07)\n",
    "plt.xlabel(\"Jenis Kelamin\", fontdict = {\"weight\" : \"bold\"})\n",
    "plt.ylabel(\"Jumlah Pelanggan (%)\", fontdict = {\"weight\" : \"bold\"})\n",
    "\n",
    "plt.show()"
   ]
  },
  {
   "cell_type": "markdown",
   "metadata": {},
   "source": [
    "Pelanggan pria lebih banyak yang tertarik dibandingkan dengan pelanggan wanita. Kemungkinan besar, hal ini dipengaruhi oleh sifat alamiah pria yang lebih peduli terhadap bidang otomotif."
   ]
  },
  {
   "cell_type": "code",
   "execution_count": 20,
   "metadata": {
    "code_folding": [
     0
    ]
   },
   "outputs": [
    {
     "data": {
      "image/png": "[encoded data removed]",
      "text/plain": [
       "<Figure size 792x576 with 1 Axes>"
      ]
     },
     "metadata": {
      "needs_background": "light"
     },
     "output_type": "display_data"
    }
   ],
   "source": [
    "# Hubungan antara premi dan kelompok umur per ketertarikan\n",
    "plt.figure(figsize = (11, 8))\n",
    "sns.stripplot(data[\"Gender\"], data[\"Annual_Premium\"], palette = \"Dark2\", hue = data[\"Response\"], dodge = True)\n",
    "plt.title(\"Distribusi Premi per Jenis Kelamin\", fontdict = {'fontsize': 16,\n",
    "        'fontweight' : \"bold\",\n",
    "        'color' : \"black\",\n",
    "        'verticalalignment': 'baseline',\n",
    "        'horizontalalignment': \"center\"\n",
    "        }, y = 1.03)\n",
    "plt.ylabel(\"Premi\", fontdict = {\"weight\" : \"bold\"})\n",
    "plt.xlabel(\"Jenis Kelamin\", fontdict = {\"weight\" : \"bold\"})\n",
    "plt.legend((\"Tidak Tertarik\", \"Tertarik\"))\n",
    "\n",
    "plt.show()"
   ]
  },
  {
   "cell_type": "markdown",
   "metadata": {},
   "source": [
    "Lebih spesifik lagi, ternyata pria lebih rela membayar premi yang tinggi untuk asuransi kendaraannya dibanding wanita. Hal ini menandakan bahwa pelanggan pria dengan umur kurang lebih 38 - 49 tahun menjadi target yang cukup potensial."
   ]
  },
  {
   "cell_type": "code",
   "execution_count": 21,
   "metadata": {},
   "outputs": [
    {
     "data": {
      "text/html": [
       "<div>\n",
       "<style scoped>\n",
       "    .dataframe tbody tr th:only-of-type {\n",
       "        vertical-align: middle;\n",
       "    }\n",
       "\n",
       "    .dataframe tbody tr th {\n",
       "        vertical-align: top;\n",
       "    }\n",
       "\n",
       "    .dataframe thead th {\n",
       "        text-align: right;\n",
       "    }\n",
       "</style>\n",
       "<table border=\"1\" class=\"dataframe\">\n",
       "  <thead>\n",
       "    <tr style=\"text-align: right;\">\n",
       "      <th></th>\n",
       "      <th>Response</th>\n",
       "      <th>Vintage</th>\n",
       "    </tr>\n",
       "  </thead>\n",
       "  <tbody>\n",
       "    <tr>\n",
       "      <th>Response</th>\n",
       "      <td>1.00000</td>\n",
       "      <td>-0.00105</td>\n",
       "    </tr>\n",
       "    <tr>\n",
       "      <th>Vintage</th>\n",
       "      <td>-0.00105</td>\n",
       "      <td>1.00000</td>\n",
       "    </tr>\n",
       "  </tbody>\n",
       "</table>\n",
       "</div>"
      ],
      "text/plain": [
       "          Response  Vintage\n",
       "Response   1.00000 -0.00105\n",
       "Vintage   -0.00105  1.00000"
      ]
     },
     "execution_count": 21,
     "metadata": {},
     "output_type": "execute_result"
    }
   ],
   "source": [
    "data[[\"Response\", \"Vintage\"]].corr()"
   ]
  },
  {
   "cell_type": "code",
   "execution_count": 22,
   "metadata": {
    "code_folding": [
     0
    ]
   },
   "outputs": [
    {
     "name": "stdout",
     "output_type": "stream",
     "text": [
      "Nilai skewness waktu terasosiasi (hari) :  0.003 . Artinya, data terdistribusi dengan normal.\n",
      "\n",
      "Asumsi normalitas distribusi data X terpenuhi. Namun, Y ('Response') tidak terdistribusi dengan normal. Maka dari itu korelasi menggunakan metode Spearman :\n"
     ]
    },
    {
     "data": {
      "text/html": [
       "<div>\n",
       "<style scoped>\n",
       "    .dataframe tbody tr th:only-of-type {\n",
       "        vertical-align: middle;\n",
       "    }\n",
       "\n",
       "    .dataframe tbody tr th {\n",
       "        vertical-align: top;\n",
       "    }\n",
       "\n",
       "    .dataframe thead th {\n",
       "        text-align: right;\n",
       "    }\n",
       "</style>\n",
       "<table border=\"1\" class=\"dataframe\">\n",
       "  <thead>\n",
       "    <tr style=\"text-align: right;\">\n",
       "      <th></th>\n",
       "      <th>Vintage</th>\n",
       "      <th>Response</th>\n",
       "    </tr>\n",
       "  </thead>\n",
       "  <tbody>\n",
       "    <tr>\n",
       "      <th>Vintage</th>\n",
       "      <td>1.000000</td>\n",
       "      <td>-0.001051</td>\n",
       "    </tr>\n",
       "    <tr>\n",
       "      <th>Response</th>\n",
       "      <td>-0.001051</td>\n",
       "      <td>1.000000</td>\n",
       "    </tr>\n",
       "  </tbody>\n",
       "</table>\n",
       "</div>"
      ],
      "text/plain": [
       "           Vintage  Response\n",
       "Vintage   1.000000 -0.001051\n",
       "Response -0.001051  1.000000"
      ]
     },
     "metadata": {},
     "output_type": "display_data"
    }
   ],
   "source": [
    "# Nilai korelasi antara waktu terasosiasi dan ketertarikan\n",
    "print(\"Nilai skewness waktu terasosiasi (hari) : \", round(skew(data[\"Vintage\"]), 3), \". Artinya, data terdistribusi dengan normal.\")\n",
    "print(\"\\nAsumsi normalitas distribusi data X terpenuhi. Namun, Y ('Response') tidak terdistribusi dengan normal. Maka dari itu korelasi menggunakan metode Spearman :\")\n",
    "display(data[[\"Vintage\", \"Response\"]].corr(\"spearman\"))"
   ]
  },
  {
   "cell_type": "markdown",
   "metadata": {},
   "source": [
    "Nilai korelasi ini sangat amat kecil. Bisa dikatakan bahwa _Vintage_ tidak memiliki hubungan dengan ketertarikan."
   ]
  },
  {
   "cell_type": "code",
   "execution_count": 23,
   "metadata": {
    "code_folding": [
     0
    ]
   },
   "outputs": [
    {
     "data": {
      "image/png": "[encoded data removed]",
      "text/plain": [
       "<Figure size 1008x504 with 1 Axes>"
      ]
     },
     "metadata": {
      "needs_background": "light"
     },
     "output_type": "display_data"
    }
   ],
   "source": [
    "# Distribusi lamanya waktu pelanggan terasosiasi dengan perusahaan (bulan)\n",
    "vintageMonthResp = pd.crosstab(data[\"vintageMonth\"], data[\"Response\"])\n",
    "\n",
    "# Memakai subplots karena ingin membuang frame bagian atas\n",
    "fig, ax = plt.subplots(figsize = (14, 7))\n",
    "ax.spines[\"top\"].set_visible(False)\n",
    "plt.bar(data.sort_values(\"vintageMonth\")[\"vintageMonth\"].unique(), vintageMonthResp[0],\n",
    "       color = \"orange\",\n",
    "       width = 0.3,\n",
    "       linewidth = 1)\n",
    "\n",
    "plt.bar(data.sort_values(\"vintageMonth\")[\"vintageMonth\"].unique(), vintageMonthResp[1],\n",
    "       color = \"lightblue\",\n",
    "       width = 0.3,\n",
    "       linewidth = 1)\n",
    "plt.legend((\"Tidak Tertarik\", \"Tertarik\"))\n",
    "plt.title(\"Korelasi Waktu Pelanggan Terasosiasi Dengan Ketertarikan\", fontdict = {'fontsize': 14,\n",
    "        'fontweight' : \"bold\",\n",
    "        'color' : \"black\",\n",
    "        'verticalalignment': 'baseline',\n",
    "        'horizontalalignment': \"center\"\n",
    "        }, y = 1.07)\n",
    "plt.xlabel(\"Waktu terasosiasi\", fontdict = {\"weight\" : \"bold\"})\n",
    "plt.ylabel(\"Jumlah Pelanggan\", fontdict = {\"weight\" : \"bold\"})\n",
    "\n",
    "plt.show()"
   ]
  },
  {
   "cell_type": "markdown",
   "metadata": {},
   "source": [
    "Transformasi data ke bentuk bulan juga ternyata tidak menunjukkan adanya hubungan. Nampak mulai dari 1 - 9 bulan (jumlah data hampir identik) tidak terjadi perubahan pola ketertarikan."
   ]
  },
  {
   "cell_type": "code",
   "execution_count": 24,
   "metadata": {
    "code_folding": [
     0
    ]
   },
   "outputs": [
    {
     "name": "stdout",
     "output_type": "stream",
     "text": [
      "Proporsi umur kendaraan :\n"
     ]
    },
    {
     "data": {
      "text/html": [
       "<div>\n",
       "<style scoped>\n",
       "    .dataframe tbody tr th:only-of-type {\n",
       "        vertical-align: middle;\n",
       "    }\n",
       "\n",
       "    .dataframe tbody tr th {\n",
       "        vertical-align: top;\n",
       "    }\n",
       "\n",
       "    .dataframe thead th {\n",
       "        text-align: right;\n",
       "    }\n",
       "</style>\n",
       "<table border=\"1\" class=\"dataframe\">\n",
       "  <thead>\n",
       "    <tr style=\"text-align: right;\">\n",
       "      <th></th>\n",
       "      <th>Presentase</th>\n",
       "    </tr>\n",
       "    <tr>\n",
       "      <th>Umur Kendaraan</th>\n",
       "      <th></th>\n",
       "    </tr>\n",
       "  </thead>\n",
       "  <tbody>\n",
       "    <tr>\n",
       "      <th>1-2 Year</th>\n",
       "      <td>52.56</td>\n",
       "    </tr>\n",
       "    <tr>\n",
       "      <th>&lt; 1 Year</th>\n",
       "      <td>43.24</td>\n",
       "    </tr>\n",
       "    <tr>\n",
       "      <th>&gt; 2 Years</th>\n",
       "      <td>4.20</td>\n",
       "    </tr>\n",
       "  </tbody>\n",
       "</table>\n",
       "</div>"
      ],
      "text/plain": [
       "                Presentase\n",
       "Umur Kendaraan            \n",
       "1-2 Year             52.56\n",
       "< 1 Year             43.24\n",
       "> 2 Years             4.20"
      ]
     },
     "metadata": {},
     "output_type": "display_data"
    }
   ],
   "source": [
    "# Distribusi Umur Kendaraan\n",
    "print(\"Proporsi umur kendaraan :\")\n",
    "vehicleAgePerc = ((pd.crosstab(data[\"Vehicle_Age\"], columns = \"count\", normalize = \"columns\") * 100).round(2)).rename(columns = {\"count\" : \"Presentase\"})\n",
    "vehicleAgePerc.columns.name = \"\"\n",
    "vehicleAgePerc.index.name = \"Umur Kendaraan\"\n",
    "display(vehicleAgePerc)"
   ]
  },
  {
   "cell_type": "markdown",
   "metadata": {},
   "source": [
    "Umur kendaraan di atas 2 tahun jumlahnya sangat amat sedikit. Hal ini seakan menjadikan distribusi data _Vehicle Age_ tidak normal."
   ]
  },
  {
   "cell_type": "code",
   "execution_count": 25,
   "metadata": {
    "code_folding": []
   },
   "outputs": [
    {
     "name": "stdout",
     "output_type": "stream",
     "text": [
      "Nilai skewness umur kendaraan :  0.25 . Artinya, sebenarnya data masih bisa dikatakan terdistribusi dengan normal.\n",
      "\n",
      "Asumsi normalitas distribusi data X terpenuhi. Namun, X disini adalah 'ranked value' (umur). Maka dari itu korelasi menggunakan metode Spearman :\n"
     ]
    },
    {
     "data": {
      "text/html": [
       "<div>\n",
       "<style scoped>\n",
       "    .dataframe tbody tr th:only-of-type {\n",
       "        vertical-align: middle;\n",
       "    }\n",
       "\n",
       "    .dataframe tbody tr th {\n",
       "        vertical-align: top;\n",
       "    }\n",
       "\n",
       "    .dataframe thead th {\n",
       "        text-align: right;\n",
       "    }\n",
       "</style>\n",
       "<table border=\"1\" class=\"dataframe\">\n",
       "  <thead>\n",
       "    <tr style=\"text-align: right;\">\n",
       "      <th></th>\n",
       "      <th>vehicleAgeInt</th>\n",
       "      <th>Response</th>\n",
       "    </tr>\n",
       "  </thead>\n",
       "  <tbody>\n",
       "    <tr>\n",
       "      <th>vehicleAgeInt</th>\n",
       "      <td>1.000000</td>\n",
       "      <td>0.220621</td>\n",
       "    </tr>\n",
       "    <tr>\n",
       "      <th>Response</th>\n",
       "      <td>0.220621</td>\n",
       "      <td>1.000000</td>\n",
       "    </tr>\n",
       "  </tbody>\n",
       "</table>\n",
       "</div>"
      ],
      "text/plain": [
       "               vehicleAgeInt  Response\n",
       "vehicleAgeInt       1.000000  0.220621\n",
       "Response            0.220621  1.000000"
      ]
     },
     "metadata": {},
     "output_type": "display_data"
    }
   ],
   "source": [
    "# Nilai korelasi antara umur kendaraan dan ketertarikan\n",
    "print(\"Nilai skewness umur kendaraan : \", round(skew(data[\"vehicleAgeInt\"]), 2), \". Artinya, sebenarnya data masih bisa dikatakan terdistribusi dengan normal.\")\n",
    "print(\"\\nAsumsi normalitas distribusi data X terpenuhi. Namun, X disini adalah 'ranked value' (umur). Maka dari itu korelasi menggunakan metode Spearman :\")\n",
    "display(data[[\"vehicleAgeInt\", \"Response\"]].corr(\"spearman\"))"
   ]
  },
  {
   "cell_type": "markdown",
   "metadata": {},
   "source": [
    "Umur kendaraan memiliki nilai korelasi yang tidak terlalu besar dan bersifat linear.\n",
    "\n",
    "**Semakin tinggi umur kendaraan, maka kecenderungan pelanggan akan tertarik dengan asuransi kendaraan perusahaan.**"
   ]
  },
  {
   "cell_type": "code",
   "execution_count": 26,
   "metadata": {
    "code_folding": [
     0
    ]
   },
   "outputs": [
    {
     "data": {
      "image/png": "[encoded data removed]",
      "text/plain": [
       "<Figure size 720x432 with 1 Axes>"
      ]
     },
     "metadata": {
      "needs_background": "light"
     },
     "output_type": "display_data"
    }
   ],
   "source": [
    "# Korelasi umur kendaraan dengan ketertarikan\n",
    "# Menggunakan proporsi karena jumlah data setiap nilai berbeda, terutama untuk kendaraan di atas 2 tahun\n",
    "vehicleAgeDist = (pd.crosstab(data[\"Vehicle_Age\"], data[\"Response\"], normalize = \"index\") * 100).reindex([\"< 1 Year\", \"1-2 Year\", \"> 2 Years\"])\n",
    "\n",
    "# Memakai subplots karena ingin membuang frame bagian atas\n",
    "fig, ax = plt.subplots(figsize = (10, 6))\n",
    "ax.spines[\"top\"].set_visible(False)\n",
    "plt.barh(vehicleAgeDist.index, vehicleAgeDist[0],\n",
    "       color = \"darkred\",\n",
    "       alpha = 0.85,\n",
    "       height = 0.3,\n",
    "       linewidth = 1)\n",
    "\n",
    "plt.barh(vehicleAgeDist.index, vehicleAgeDist[1],\n",
    "       color = \"darkblue\",\n",
    "       alpha = 0.85, \n",
    "       height = 0.3,\n",
    "       linewidth = 1)\n",
    "plt.legend((\"Tidak Tertarik\", \"Tertarik\"))\n",
    "plt.title(\"Hubungan Umur Kendaraan Dengan Ketertarikan\", fontdict = {'fontsize': 14,\n",
    "        'fontweight' : \"bold\",\n",
    "        'color' : \"black\",\n",
    "        'verticalalignment': 'baseline',\n",
    "        'horizontalalignment': \"center\"\n",
    "        }, y = 1.07)\n",
    "plt.ylabel(\"Umur Kendaraan\", fontdict = {\"weight\" : \"bold\"})\n",
    "plt.xlabel(\"Jumlah Pelanggan (%)\", fontdict = {\"weight\" : \"bold\"})\n",
    "\n",
    "plt.show()"
   ]
  },
  {
   "cell_type": "markdown",
   "metadata": {},
   "source": [
    "Nilai korelasi di atas terbukti melalui grafik. Semakin tua umur kendaraan pelanggan, maka semakin besar juga ketertarikannya untuk memiliki asuransi kendaraan perusahaan. Kemungkinan besar pelanggan yang umur kendaraannya masih di bawa satu tahun belum merasakan kendala yang cukup berarti bagi kendarannya, mengingat kondisi masih sangat baru, sehingga tidak terlalu tertarik untuk mengambil asuransi. Sebaliknya, kendaraan yang umurnya makin tua akan semakin besar juga peluanganya mengalami kerusakan atau permasalahan. Dengan demikian mengambil asuransi adalah salah satu jalan untuk mengantisipasi kerugian."
   ]
  },
  {
   "cell_type": "code",
   "execution_count": 27,
   "metadata": {},
   "outputs": [
    {
     "name": "stdout",
     "output_type": "stream",
     "text": [
      "Nilai skewness kerusakan kendaraan :  -0.02 . Artinya, data terdistribusi dengan normal.\n",
      "\n",
      "Asumsi normalitas distribusi data X terpenuhi. Namun, X tidak bersifat kontinu. Maka dari itu korelasi menggunakan metode Spearman :\n"
     ]
    },
    {
     "data": {
      "text/html": [
       "<div>\n",
       "<style scoped>\n",
       "    .dataframe tbody tr th:only-of-type {\n",
       "        vertical-align: middle;\n",
       "    }\n",
       "\n",
       "    .dataframe tbody tr th {\n",
       "        vertical-align: top;\n",
       "    }\n",
       "\n",
       "    .dataframe thead th {\n",
       "        text-align: right;\n",
       "    }\n",
       "</style>\n",
       "<table border=\"1\" class=\"dataframe\">\n",
       "  <thead>\n",
       "    <tr style=\"text-align: right;\">\n",
       "      <th></th>\n",
       "      <th>vehicleDamageInt</th>\n",
       "      <th>Response</th>\n",
       "    </tr>\n",
       "  </thead>\n",
       "  <tbody>\n",
       "    <tr>\n",
       "      <th>vehicleDamageInt</th>\n",
       "      <td>1.0000</td>\n",
       "      <td>0.3544</td>\n",
       "    </tr>\n",
       "    <tr>\n",
       "      <th>Response</th>\n",
       "      <td>0.3544</td>\n",
       "      <td>1.0000</td>\n",
       "    </tr>\n",
       "  </tbody>\n",
       "</table>\n",
       "</div>"
      ],
      "text/plain": [
       "                  vehicleDamageInt  Response\n",
       "vehicleDamageInt            1.0000    0.3544\n",
       "Response                    0.3544    1.0000"
      ]
     },
     "metadata": {},
     "output_type": "display_data"
    }
   ],
   "source": [
    "# Nilai korelasi antara kerusakan kendaraan dan ketertarikan\n",
    "print(\"Nilai skewness kerusakan kendaraan : \", round(skew(data[\"vehicleDamageInt\"]), 3), \". Artinya, data terdistribusi dengan normal.\")\n",
    "print(\"\\nAsumsi normalitas distribusi data X terpenuhi. Namun, X tidak bersifat kontinu. Maka dari itu korelasi menggunakan metode Spearman :\")\n",
    "display(data[[\"vehicleDamageInt\", \"Response\"]].corr(\"spearman\"))"
   ]
  },
  {
   "cell_type": "markdown",
   "metadata": {},
   "source": [
    "Kerusakan kendaraan pelanggan pada waktu - waku sebelumnya ternyata memiliki korelasi yang cukup kuat dengan ketertarikan, bahkan melebihi variabel umur kendaraan itu sendiri.\n",
    "\n",
    "**Jika pelanggan pernah mengalami kerusakan kendaraan di masa sebelumnya, maka kecenderungan mereka akan tertarik dengan asuransi kendaraan perusahaan pun semakin besar.**"
   ]
  },
  {
   "cell_type": "code",
   "execution_count": 28,
   "metadata": {
    "code_folding": [
     0
    ]
   },
   "outputs": [
    {
     "name": "stdout",
     "output_type": "stream",
     "text": [
      "KETERANGAN :\n",
      "'vehicleAgeInt' = 0 adalah umur kendaraan < 1 tahun\n",
      "'vehicleAgeInt' = 1 adalah umur kendaraan 1 - 2 tahun\n",
      "'vehicleAgeInt' = 2 adalah umur kendaraan > 2 tahun\n",
      "\n"
     ]
    },
    {
     "data": {
      "image/png": "[encoded data removed]",
      "text/plain": [
       "<Figure size 648x432 with 6 Axes>"
      ]
     },
     "metadata": {
      "needs_background": "light"
     },
     "output_type": "display_data"
    }
   ],
   "source": [
    "# Hubungan antara umur kendaraan, kerusakan kendaraan, dan ketertarikan\n",
    "print('''KETERANGAN :\n",
    "'vehicleAgeInt' = 0 adalah umur kendaraan < 1 tahun\n",
    "'vehicleAgeInt' = 1 adalah umur kendaraan 1 - 2 tahun\n",
    "'vehicleAgeInt' = 2 adalah umur kendaraan > 2 tahun\\n''')\n",
    "triCorr = sns.FacetGrid(data, row = \"vehicleDamageInt\", col = \"vehicleAgeInt\")\n",
    "triCorr.map(sns.distplot, \"Response\")\n",
    "plt.subplots_adjust(hspace = 0.4, wspace = 0.7)\n",
    "\n",
    "plt.show()"
   ]
  },
  {
   "cell_type": "markdown",
   "metadata": {},
   "source": [
    "Pengalaman kerusakan kendaraan ternyata memberi pengaruh yang cukup kuat. Dapat dilihat bahwa tidak peduli berapa tahun umur kendaraan pelanggan, namun bila ia tidak pernah mengalamai kerusakan sebelumnya maka kemungkinan ia untuk tertarik sangat amat kecil. Sebaliknya, bila ia pernah mengalamai kerusakan kendaraan, maka berapapun umur kendaraannya kecenderungan untuk tertarik semakin besar.\n",
    "\n",
    "**Jika poin kerusakan pelanggan terpenuhi, maka disinilah variabel umur kendaraan memainkan perannya. Semakin tinggi umur tersebut, maka semakin tinggi juga kecenderungan pelanggan untuk tertarik.**"
   ]
  },
  {
   "cell_type": "markdown",
   "metadata": {},
   "source": [
    "# Modelling"
   ]
  },
  {
   "cell_type": "markdown",
   "metadata": {},
   "source": [
    "## Feature Selection"
   ]
  },
  {
   "cell_type": "markdown",
   "metadata": {},
   "source": [
    "Pemilihan variabel independen didasarkan dari hasil analisis EDA. Disimpulkan bahwa variabel yang pantas untuk masuk ke ranah _modelling_ adalah **_genderInt_**, ***Previously_Insured***, **_vehicleAgeInt_**, **_vehicleDamageInt_**, ***Annual_Premium***, dan **_Age_**"
   ]
  },
  {
   "cell_type": "code",
   "execution_count": 29,
   "metadata": {},
   "outputs": [],
   "source": [
    "# Mengambil variabel relevan\n",
    "X = data[[\"genderInt\", \"Previously_Insured\", \"vehicleAgeInt\", \"vehicleDamageInt\", \"Annual_Premium\", \"Age\"]]\n",
    "y = data[\"Response\"]"
   ]
  },
  {
   "cell_type": "markdown",
   "metadata": {},
   "source": [
    "## Base Model"
   ]
  },
  {
   "cell_type": "markdown",
   "metadata": {},
   "source": [
    "_Base Model_ digunakan untuk melihat algoritma mana yang kira - kira **mempunyai potensi cukup bagus** untuk memprediksi data. Nantinya, model yang punya potensi bagus itulah yang selanjutnya akan disesuaikan agar hasilnya lebih maksimal."
   ]
  },
  {
   "cell_type": "markdown",
   "metadata": {},
   "source": [
    "### Preparation"
   ]
  },
  {
   "cell_type": "code",
   "execution_count": 30,
   "metadata": {
    "code_folding": []
   },
   "outputs": [],
   "source": [
    "# Splitting Data\n",
    "X_train, X_test, y_train, y_test = train_test_split(X, y, stratify = y, test_size = 0.2, random_state = 7)"
   ]
  },
  {
   "cell_type": "code",
   "execution_count": 63,
   "metadata": {
    "code_folding": [
     0
    ]
   },
   "outputs": [],
   "source": [
    "# # Algorithms\n",
    "# # Logistic Regression\n",
    "# LogReg = LogisticRegression().fit(X_train, y_train)\n",
    "# LogRegPredTrain = LogReg.predict(X_train)\n",
    "# LogRegPredTest = LogReg.predict(X_test)\n",
    "\n",
    "# # Random Forest Classifier\n",
    "# RanFor = RandomForestClassifier().fit(X_train, y_train)\n",
    "# RanForPredTrain = RanFor.predict(X_train)\n",
    "# RanForPredTest = RanFor.predict(X_test)\n",
    "\n",
    "# # Support Vector Machine Classifier\n",
    "# SVM = SVC().fit(X_train, y_train)\n",
    "# SVMPredTrain = SVM.predict(X_train)\n",
    "# SVMPredTest = SVM.predict(X_test)\n",
    "\n",
    "# # K - Nearest Neighbors Classifier\n",
    "# KNN = KNeighborsClassifier().fit(X_train, y_train)\n",
    "# KNNPredTrain = KNN.predict(X_train)\n",
    "# KNNPredTest = KNN.predict(X_test)\n",
    "\n",
    "# # Extreme Gradient Boosting Classifier\n",
    "# XGB = XGBClassifier().fit(X_train, y_train)\n",
    "# XGBPredTrain = XGB.predict(X_train)\n",
    "# XGBPredTest = XGB.predict(X_test)"
   ]
  },
  {
   "cell_type": "markdown",
   "metadata": {},
   "source": [
    "### Evaluation Metrics"
   ]
  },
  {
   "cell_type": "code",
   "execution_count": 92,
   "metadata": {
    "code_folding": [
     0
    ]
   },
   "outputs": [
    {
     "name": "stdout",
     "output_type": "stream",
     "text": [
      "Metrik Evaluasi Data Uji Logistic Regression :\n"
     ]
    },
    {
     "data": {
      "image/png": "[encoded data removed]",
      "text/plain": [
       "<Figure size 432x288 with 2 Axes>"
      ]
     },
     "metadata": {
      "needs_background": "light"
     },
     "output_type": "display_data"
    },
    {
     "name": "stdout",
     "output_type": "stream",
     "text": [
      "\n",
      "Metrik Evaluasi Data Uji Random Forest :\n"
     ]
    },
    {
     "data": {
      "image/png": "[encoded data removed]",
      "text/plain": [
       "<Figure size 432x288 with 2 Axes>"
      ]
     },
     "metadata": {
      "needs_background": "light"
     },
     "output_type": "display_data"
    },
    {
     "name": "stdout",
     "output_type": "stream",
     "text": [
      "\n",
      "Metrik Evaluasi Data Uji SVM Classifier :\n"
     ]
    },
    {
     "data": {
      "image/png": "[encoded data removed]",
      "text/plain": [
       "<Figure size 432x288 with 2 Axes>"
      ]
     },
     "metadata": {
      "needs_background": "light"
     },
     "output_type": "display_data"
    },
    {
     "name": "stdout",
     "output_type": "stream",
     "text": [
      "\n",
      "Metrik Evaluasi Data Uji KNN Classifier :\n"
     ]
    },
    {
     "data": {
      "image/png": "[encoded data removed]",
      "text/plain": [
       "<Figure size 432x288 with 2 Axes>"
      ]
     },
     "metadata": {
      "needs_background": "light"
     },
     "output_type": "display_data"
    },
    {
     "name": "stdout",
     "output_type": "stream",
     "text": [
      "\n",
      "Metrik Evaluasi Data Uji XGBoost Classifier :\n"
     ]
    },
    {
     "data": {
      "image/png": "[encoded data removed]",
      "text/plain": [
       "<Figure size 432x288 with 2 Axes>"
      ]
     },
     "metadata": {
      "needs_background": "light"
     },
     "output_type": "display_data"
    }
   ],
   "source": [
    "# Logistic Regression\n",
    "conMatLogReg = confusion_matrix(y_test, LogRegPredTest, labels = [1, 0])\n",
    "conMatLogReg = pd.DataFrame(conMatLogReg, index = [\"Akt 1\", \"Akt 0\"], columns = [\"Pred 1\", \"Pred 0\"])\n",
    "sns.heatmap(conMatLogReg, annot = True, fmt = 'g')\n",
    "print(\"Metrik Evaluasi Data Uji Logistic Regression :\")\n",
    "plt.show()\n",
    "\n",
    "# Random Forest Classifier\n",
    "conMatRanFor = confusion_matrix(y_test, RanForPredTest, labels = [1, 0])\n",
    "conMatRanFor = pd.DataFrame(conMatRanFor, index = [\"Akt 1\", \"Akt 0\"], columns = [\"Pred 1\", \"Pred 0\"])\n",
    "sns.heatmap(conMatRanFor, annot = True, fmt = 'g')\n",
    "print(\"\\nMetrik Evaluasi Data Uji Random Forest :\")\n",
    "plt.show()\n",
    "\n",
    "# Support Vector Machine Classifier\n",
    "conMatSVM = confusion_matrix(y_test, SVMPredTest, labels = [1, 0])\n",
    "conMatSVM = pd.DataFrame(conMatSVM, index = [\"Akt 1\", \"Akt 0\"], columns = [\"Pred 1\", \"Pred 0\"])\n",
    "sns.heatmap(conMatSVM, annot = True, fmt = 'g')\n",
    "print(\"\\nMetrik Evaluasi Data Uji SVM Classifier :\")\n",
    "plt.show()\n",
    "\n",
    "# K - Nearest Neighbors Classifier\n",
    "conMatKNN = confusion_matrix(y_test, KNNPredTest, labels = [1, 0])\n",
    "conMatKNN = pd.DataFrame(conMatKNN, index = [\"Akt 1\", \"Akt 0\"], columns = [\"Pred 1\", \"Pred 0\"])\n",
    "sns.heatmap(conMatKNN, annot = True, fmt = 'g')\n",
    "print(\"\\nMetrik Evaluasi Data Uji KNN Classifier :\")\n",
    "plt.show()\n",
    "\n",
    "# Extreme Gradient Boosting Classifier\n",
    "conMatXGB = confusion_matrix(y_test, XGBPredTest, labels = [1, 0])\n",
    "conMatXGB = pd.DataFrame(conMatXGB, index = [\"Akt 1\", \"Akt 0\"], columns = [\"Pred 1\", \"Pred 0\"])\n",
    "sns.heatmap(conMatXGB, annot = True, fmt = 'g')\n",
    "print(\"\\nMetrik Evaluasi Data Uji XGBoost Classifier :\")\n",
    "plt.show()"
   ]
  },
  {
   "cell_type": "markdown",
   "metadata": {},
   "source": [
    "Dalam kasus ini, _error_ yang harus diminimalisir adalah ***False Negative***. Akan lebih merugikan jika mesin memprediksi pelanggan tidak tertarik, namun aktualnya ia tertarik. Sebaliknya, toleransi bisa diberikan pada _False Positive_ (mesin memprediksi pelanggan tertarik, namun aktualnya ia tidak tertarik).\n",
    "\n",
    "**Jika FN besar, maka perusahaan akan kehilangan pelanggan potensialnya. Kemungkinan terburuk, pelanggan tersebut bisa diambil oleh perusahaan asuransi kendaraan lainnya. Akan tetapi, bila FP tinggi, kerugian yang dialami oleh perusahaan hanya sebatas waktu (untuk menghubungi) dan sedikit materi (tergantung pada tipe pendekatan). Maka itu, evaluasi yang digunakan adalah _Recall_. Alasan lainnya adalah terkait distribusi target yang tidak seimbang, sehingga tidak memungkinkan untuk memakai _accuracy_.**"
   ]
  },
  {
   "cell_type": "markdown",
   "metadata": {},
   "source": [
    "Dari kelima model standar di atas, **_Random Forest_** adalah model terbaik karena ia mampu menekan angka FP. Bahkan, jumlahnya sangat jauh dibanding keempat model lain yang jumlahnya di atas 8.600 pelanggan. Meskipun begitu, model dasar ini dirasa tidak cukup fair mengingat bentuk data yang **tidak seimbang**. Oleh karena itu data akan diberi penyesuaian terlebih dahulu dengan metode ***Random Over Sampling***."
   ]
  },
  {
   "cell_type": "markdown",
   "metadata": {},
   "source": [
    "***Handling Imbalanced Data***"
   ]
  },
  {
   "cell_type": "code",
   "execution_count": 99,
   "metadata": {
    "code_folding": [
     0
    ]
   },
   "outputs": [
    {
     "name": "stdout",
     "output_type": "stream",
     "text": [
      "Data latih yang sudah di sampling ulang :\n"
     ]
    },
    {
     "data": {
      "text/html": [
       "<div>\n",
       "<style scoped>\n",
       "    .dataframe tbody tr th:only-of-type {\n",
       "        vertical-align: middle;\n",
       "    }\n",
       "\n",
       "    .dataframe tbody tr th {\n",
       "        vertical-align: top;\n",
       "    }\n",
       "\n",
       "    .dataframe thead th {\n",
       "        text-align: right;\n",
       "    }\n",
       "</style>\n",
       "<table border=\"1\" class=\"dataframe\">\n",
       "  <thead>\n",
       "    <tr style=\"text-align: right;\">\n",
       "      <th></th>\n",
       "      <th>Jumlah</th>\n",
       "    </tr>\n",
       "    <tr>\n",
       "      <th>Response</th>\n",
       "      <th></th>\n",
       "    </tr>\n",
       "  </thead>\n",
       "  <tbody>\n",
       "    <tr>\n",
       "      <th>0</th>\n",
       "      <td>267519</td>\n",
       "    </tr>\n",
       "    <tr>\n",
       "      <th>1</th>\n",
       "      <td>267519</td>\n",
       "    </tr>\n",
       "  </tbody>\n",
       "</table>\n",
       "</div>"
      ],
      "text/plain": [
       "          Jumlah\n",
       "Response        \n",
       "0         267519\n",
       "1         267519"
      ]
     },
     "metadata": {},
     "output_type": "display_data"
    }
   ],
   "source": [
    "# 'Tidak Tertarik' (0) adalah mayoritas. Sedangkan, 'Tertarik' (1) adalah minoritas.\n",
    "dataTrain = pd.concat([X_train, y_train], axis = 1)\n",
    "noResponse, yesResponse = dataTrain[dataTrain[\"Response\"] == 0], dataTrain[dataTrain[\"Response\"] == 1]\n",
    "yesOverSampled = resample(yesResponse, replace = True, n_samples = len(noResponse), random_state = 7)\n",
    "\n",
    "dataTrainOverSampled = pd.concat([noResponse, yesOverSampled])\n",
    "\n",
    "print(\"Data latih yang sudah di sampling ulang :\")\n",
    "display(dataTrainOverSampled.groupby(\"Response\").count()[[\"genderInt\"]].rename(columns = {\"genderInt\" : \"Jumlah\"}))"
   ]
  },
  {
   "cell_type": "markdown",
   "metadata": {},
   "source": [
    "***Re - Training and Modelling***"
   ]
  },
  {
   "cell_type": "code",
   "execution_count": null,
   "metadata": {
    "code_folding": [
     0
    ]
   },
   "outputs": [],
   "source": [
    "# Algorithms\n",
    "X_trainOS, y_trainOS = dataTrainOverSampled.drop(\"Response\", 1), dataTrainOverSampled[\"Response\"]\n",
    "\n",
    "# # Logistic Regression\n",
    "LogRegOS = LogisticRegression().fit(X_trainOS, y_trainOS)\n",
    "LogRegPredTrainOS = LogRegOS.predict(X_train)\n",
    "LogRegPredTestOS = LogRegOS.predict(X_test)\n",
    "\n",
    "# Random Forest Classifier\n",
    "RanForOS = RandomForestClassifier().fit(X_trainOS, y_trainOS)\n",
    "RanForPredTrainOS = RanForOS.predict(X_train)\n",
    "RanForPredTestOS = RanForOS.predict(X_test)\n",
    "\n",
    "# Support Vector Machine Classifier\n",
    "SVMOS = SVC().fit(X_trainOS, y_trainOS)\n",
    "SVMPredTrainOS = SVMOS.predict(X_train)\n",
    "SVMPredTestOS = SVMOS.predict(X_test)\n",
    "\n",
    "# K - Nearest Neighbors Classifier\n",
    "KNNOS = KNeighborsClassifier().fit(X_trainOS, y_trainOS)\n",
    "KNNPredTrainOS = KNNOS.predict(X_train)\n",
    "KNNPredTestOS = KNNOS.predict(X_test)\n",
    "\n",
    "# Extreme Gradient Boosting Classifier\n",
    "XGBOS = XGBClassifier().fit(X_trainOS, y_trainOS)\n",
    "XGBPredTrainOS = XGBOS.predict(X_train)\n",
    "XGBPredTestOS = XGBOS.predict(X_test)"
   ]
  },
  {
   "cell_type": "markdown",
   "metadata": {},
   "source": [
    "**Proses dihentikan secara paksa setelah kurang lebih 4 jam berjalan. Diputuskan untuk tidak melanjutkan _base model_ dengan data _over sampling_ ini karena kondisi dan performa laptop yang tidak mendukung.**\n",
    "\n",
    "Proses selanjutnya langsung memasuki _tuning_ model, dimana hanya 3 model dengan jumlah FN terendah yang akan diproses. Mereka adalah *Logistic Regression*, *Random Forest Classifier*, dan *KNN Classifier*."
   ]
  },
  {
   "cell_type": "markdown",
   "metadata": {},
   "source": [
    "## Tuned Model"
   ]
  },
  {
   "cell_type": "markdown",
   "metadata": {},
   "source": [
    "### Logistic Regression"
   ]
  },
  {
   "cell_type": "markdown",
   "metadata": {},
   "source": [
    "***Hyper Parameter Tuning***"
   ]
  },
  {
   "cell_type": "code",
   "execution_count": 73,
   "metadata": {},
   "outputs": [
    {
     "name": "stdout",
     "output_type": "stream",
     "text": [
      "Fitting 4 folds for each of 162 candidates, totalling 648 fits\n"
     ]
    },
    {
     "name": "stderr",
     "output_type": "stream",
     "text": [
      "[Parallel(n_jobs=-1)]: Using backend LokyBackend with 4 concurrent workers.\n",
      "[Parallel(n_jobs=-1)]: Done  42 tasks      | elapsed:  1.6min\n",
      "[Parallel(n_jobs=-1)]: Done 192 tasks      | elapsed: 15.6min\n",
      "[Parallel(n_jobs=-1)]: Done 442 tasks      | elapsed: 31.2min\n",
      "[Parallel(n_jobs=-1)]: Done 648 out of 648 | elapsed: 46.4min finished\n"
     ]
    },
    {
     "data": {
      "text/plain": [
       "GridSearchCV(cv=4, estimator=LogisticRegression(), n_jobs=-1,\n",
       "             param_grid={'class_weight': [None, {0: 0.2, 1: 0.8},\n",
       "                                          {0: 0.08, 1: 0.92}],\n",
       "                         'max_iter': [100, 300, 500],\n",
       "                         'penalty': ['l1', 'l2', 'elasticnet'],\n",
       "                         'random_state': [77],\n",
       "                         'solver': ['lbfgs', 'saga', 'sag'],\n",
       "                         'warm_start': [True, False]},\n",
       "             verbose=1)"
      ]
     },
     "execution_count": 73,
     "metadata": {},
     "output_type": "execute_result"
    }
   ],
   "source": [
    "LogRegTuned = GridSearchCV(\n",
    "    estimator = LogisticRegression(),\n",
    "    param_grid = {\n",
    "        \"penalty\" : [\"l1\", \"l2\", \"elasticnet\"],\n",
    "        \"class_weight\" : [None, {0 : 0.2, 1 : 0.8}, {0 : 0.08, 1 : 0.92}],\n",
    "        \"random_state\" : [77],\n",
    "        \"max_iter\" : [100, 300, 500],\n",
    "        \"warm_start\" : [True, False],\n",
    "        \"solver\" : [\"lbfgs\", \"saga\", \"sag\"]\n",
    "        }, cv = 4, n_jobs = -1, verbose = 1\n",
    "    )\n",
    "\n",
    "LogRegTuned.fit(X_train, y_train)"
   ]
  },
  {
   "cell_type": "code",
   "execution_count": 74,
   "metadata": {},
   "outputs": [
    {
     "name": "stdout",
     "output_type": "stream",
     "text": [
      "Parameter terbaik dari Logistic Regression - Tuned:\n"
     ]
    },
    {
     "data": {
      "text/plain": [
       "{'class_weight': None,\n",
       " 'max_iter': 100,\n",
       " 'penalty': 'l1',\n",
       " 'random_state': 77,\n",
       " 'solver': 'saga',\n",
       " 'warm_start': True}"
      ]
     },
     "metadata": {},
     "output_type": "display_data"
    }
   ],
   "source": [
    "# Best Param\n",
    "print(\"Parameter terbaik dari Logistic Regression - Tuned:\")\n",
    "display(LogRegTuned.best_params_)"
   ]
  },
  {
   "cell_type": "code",
   "execution_count": 80,
   "metadata": {
    "code_folding": [
     0
    ]
   },
   "outputs": [
    {
     "name": "stdout",
     "output_type": "stream",
     "text": [
      "Metrik Evaluasi Data Uji Logistic Regression - Tuned :\n"
     ]
    },
    {
     "data": {
      "image/png": "[encoded data removed]",
      "text/plain": [
       "<Figure size 432x288 with 2 Axes>"
      ]
     },
     "metadata": {
      "needs_background": "light"
     },
     "output_type": "display_data"
    }
   ],
   "source": [
    "# Evaluation Metrics\n",
    "bestLogRegTuned = LogRegTuned.best_estimator_\n",
    "LogRegTunedPredTest = bestLogRegTuned.predict(X_test)\n",
    "\n",
    "conMatLogRegTuned = confusion_matrix(y_test, LogRegTunedPredTest, labels = [1, 0])\n",
    "conMatLogRegTuned = pd.DataFrame(conMatLogRegTuned, index = [\"Akt 1\", \"Akt 0\"], columns = [\"Pred 1\", \"Pred 0\"])\n",
    "sns.heatmap(conMatLogRegTuned, annot = True, fmt = 'g')\n",
    "print(\"Metrik Evaluasi Data Uji Logistic Regression - Tuned :\")\n",
    "plt.show()"
   ]
  },
  {
   "cell_type": "markdown",
   "metadata": {},
   "source": [
    "### Random Forest Classifier"
   ]
  },
  {
   "cell_type": "code",
   "execution_count": null,
   "metadata": {},
   "outputs": [
    {
     "name": "stdout",
     "output_type": "stream",
     "text": [
      "Fitting 4 folds for each of 243 candidates, totalling 972 fits\n"
     ]
    },
    {
     "name": "stderr",
     "output_type": "stream",
     "text": [
      "[Parallel(n_jobs=-1)]: Using backend LokyBackend with 4 concurrent workers.\n",
      "[Parallel(n_jobs=-1)]: Done  42 tasks      | elapsed: 58.0min\n"
     ]
    }
   ],
   "source": [
    "RanForTuned = GridSearchCV(\n",
    "    estimator = RandomForestClassifier(),\n",
    "    param_grid = {\n",
    "        \"n_estimators\" : [100, 200, 500],\n",
    "        \"max_depth\" : [None, 5, 7],\n",
    "        \"min_samples_split\" : [2, 9, 10],\n",
    "        \"min_samples_leaf\" : [1, 2, 5],\n",
    "        \"max_features\" : [None, 3, 5]\n",
    "        }, cv = 4, n_jobs = -1, verbose = 1\n",
    "    )\n",
    "\n",
    "RanForTuned.fit(X_train, y_train)"
   ]
  },
  {
   "cell_type": "markdown",
   "metadata": {},
   "source": [
    "**Laptop tidak bisa memproses setelah berjalan hampir 3,5 jam. Diputuskan untuk menyudahi proses karena performa laptop juga ikut menurun (*lagging*).**"
   ]
  }
 ],
 "metadata": {
  "kernelspec": {
   "display_name": "Python 3",
   "language": "python",
   "name": "python3"
  },
  "language_info": {
   "codemirror_mode": {
    "name": "ipython",
    "version": 3
   },
   "file_extension": ".py",
   "mimetype": "text/x-python",
   "name": "python",
   "nbconvert_exporter": "python",
   "pygments_lexer": "ipython3",
   "version": "3.8.3"
  },
  "toc": {
   "base_numbering": 1,
   "nav_menu": {},
   "number_sections": true,
   "sideBar": true,
   "skip_h1_title": false,
   "title_cell": "Table of Contents",
   "title_sidebar": "Contents",
   "toc_cell": false,
   "toc_position": {},
   "toc_section_display": true,
   "toc_window_display": false
  }
 },
 "nbformat": 4,
 "nbformat_minor": 4
}
